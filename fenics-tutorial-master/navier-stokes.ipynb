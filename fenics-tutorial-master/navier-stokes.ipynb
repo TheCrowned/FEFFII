{
 "cells": [
  {
   "cell_type": "code",
   "execution_count": 62,
   "metadata": {},
   "outputs": [],
   "source": [
    "\"\"\"\n",
    "FEniCS tutorial demo program: Incompressible Navier-Stokes equations\n",
    "for channel flow (Poisseuille) on the unit square using the\n",
    "Incremental Pressure Correction Scheme (IPCS).\n",
    "\n",
    "  u' + u . nabla(u)) - div(sigma(u, p)) = f\n",
    "\t\t\t\t\t\t\t\t div(u) = 0\n",
    "\"\"\"\n",
    "\n",
    "from __future__ import print_function\n",
    "from fenics import *\n",
    "import numpy as np\n",
    "import matplotlib.pyplot as plt"
   ]
  },
  {
   "cell_type": "code",
   "execution_count": 63,
   "metadata": {},
   "outputs": [],
   "source": [
    "T = 10.0           # final time\n",
    "num_steps = 50    # number of time steps\n",
    "dt = T / num_steps # time step size\n",
    "mu = 1             # kinematic viscosity\n",
    "rho = 1            # density"
   ]
  },
  {
   "cell_type": "code",
   "execution_count": 64,
   "metadata": {},
   "outputs": [],
   "source": [
    "# Create mesh and define function spaces\n",
    "mesh = UnitSquareMesh(16, 16)\n",
    "V = VectorFunctionSpace(mesh, 'P', 2, 2)\n",
    "Q = FunctionSpace(mesh, 'P', 1)"
   ]
  },
  {
   "cell_type": "code",
   "execution_count": 73,
   "metadata": {},
   "outputs": [],
   "source": [
    "# Define boundaries\n",
    "inflow  = 'near(x[0], 0)'\n",
    "outflow = 'near(x[0], 1)'\n",
    "walls   = 'near(x[1], 0) || near(x[1], 1)'\n",
    "\n",
    "# Define boundary conditions\n",
    "bcu_noslip  = DirichletBC(V, Constant((0, 0)), walls)\n",
    "bcp_inflow  = DirichletBC(Q, Constant(0), inflow)\n",
    "bcp_outflow = DirichletBC(Q, Expression('sin(2*pi*x[1])', degree=2), outflow)\n",
    "bcu = [bcu_noslip]\n",
    "bcp = [bcp_inflow, bcp_outflow]"
   ]
  },
  {
   "cell_type": "code",
   "execution_count": 74,
   "metadata": {},
   "outputs": [],
   "source": [
    "# Define trial and test functions\n",
    "u = TrialFunction(V)\n",
    "v = TestFunction(V)\n",
    "p = TrialFunction(Q)\n",
    "q = TestFunction(Q)\n",
    "\n",
    "# Define functions for solutions at previous and current time steps\n",
    "u_n = Function(V)\n",
    "u_  = Function(V)\n",
    "p_n = Function(Q)\n",
    "p_  = Function(Q)\n",
    "\n",
    "# Define expressions used in variational forms\n",
    "U   = 0.5*(u_n + u)\n",
    "n   = FacetNormal(mesh)\n",
    "f   = Constant((0, 0))\n",
    "k   = Constant(dt)\n",
    "mu  = Constant(mu)\n",
    "rho = Constant(rho)"
   ]
  },
  {
   "cell_type": "code",
   "execution_count": 75,
   "metadata": {},
   "outputs": [],
   "source": [
    "# Define strain-rate tensor\n",
    "def epsilon(u):\n",
    "\treturn sym(nabla_grad(u))\n",
    "\n",
    "# Define stress tensor\n",
    "def sigma(u, p):\n",
    "\treturn 2*mu*epsilon(u) - p*Identity(len(u))"
   ]
  },
  {
   "cell_type": "code",
   "execution_count": 76,
   "metadata": {},
   "outputs": [],
   "source": [
    "# Define variational problem for step 1\n",
    "F1 = rho*dot((u - u_n) / k, v)*dx + \\\n",
    "     rho*dot(dot(u_n, nabla_grad(u_n)), v)*dx \\\n",
    "     + inner(sigma(U, p_n), epsilon(v))*dx \\\n",
    "     + dot(p_n*n, v)*ds - dot(mu*nabla_grad(U)*n, v)*ds \\\n",
    "     - dot(f, v)*dx\n",
    "a1 = lhs(F1)\n",
    "L1 = rhs(F1)\n",
    "\n",
    "# Define variational problem for step 2\n",
    "a2 = dot(nabla_grad(p), nabla_grad(q))*dx\n",
    "L2 = dot(nabla_grad(p_n), nabla_grad(q))*dx - (1/k)*div(u_)*q*dx\n",
    "\n",
    "# Define variational problem for step 3\n",
    "a3 = dot(u, v)*dx\n",
    "L3 = dot(u_, v)*dx - k*dot(nabla_grad(p_ - p_n), v)*dx"
   ]
  },
  {
   "cell_type": "code",
   "execution_count": 77,
   "metadata": {},
   "outputs": [
    {
     "data": {
      "text/plain": [
       "[None, None]"
      ]
     },
     "execution_count": 77,
     "metadata": {},
     "output_type": "execute_result"
    }
   ],
   "source": [
    "# Assemble matrices\n",
    "A1 = assemble(a1)\n",
    "A2 = assemble(a2)\n",
    "A3 = assemble(a3)\n",
    "\n",
    "# Apply boundary conditions to matrices\n",
    "[bc.apply(A1) for bc in bcu]\n",
    "[bc.apply(A2) for bc in bcp]"
   ]
  },
  {
   "cell_type": "code",
   "execution_count": 78,
   "metadata": {},
   "outputs": [],
   "source": [
    "# Time-stepping\n",
    "t = 0\n",
    "for n in range(num_steps):\n",
    "    t += dt\n",
    "\n",
    "    # Step 1: Tentative velocity step\n",
    "    b1 = assemble(L1)\n",
    "    [bc.apply(b1) for bc in bcu]\n",
    "    solve(A1, u_.vector(), b1)\n",
    "\n",
    "    # Step 2: Pressure correction step\n",
    "    b2 = assemble(L2)\n",
    "    [bc.apply(b2) for bc in bcp]\n",
    "    solve(A2, p_.vector(), b2)\n",
    "\n",
    "    # Step 3: Velocity correction step\n",
    "    b3 = assemble(L3)\n",
    "    solve(A3, u_.vector(), b3)\n",
    "\n",
    "    # Compute error\n",
    "    u_e = Expression(('4*x[1]*(1.0 - x[1])', '0'), degree=2)\n",
    "    u_e = interpolate(u_e, V)\n",
    "    error = np.abs(u_e.vector().get_local() - u_.vector().get_local()).max()\n",
    "    #print('t = %.2f: error = %.3g' % (t, error))\n",
    "    #print('max u:', u_.vector().get_local().max())\n",
    "\n",
    "    # Update previous solution\n",
    "    u_n.assign(u_)\n",
    "    p_n.assign(p_)"
   ]
  },
  {
   "cell_type": "code",
   "execution_count": 79,
   "metadata": {},
   "outputs": [
    {
     "name": "stdout",
     "output_type": "stream",
     "text": [
      "[0.10652808 0.07096549]\n"
     ]
    }
   ],
   "source": [
    "print(u_((1,0.7)))"
   ]
  },
  {
   "cell_type": "code",
   "execution_count": 80,
   "metadata": {},
   "outputs": [
    {
     "data": {
      "image/png": "[encoded data removed]",
      "text/plain": [
       "<Figure size 432x288 with 2 Axes>"
      ]
     },
     "metadata": {
      "needs_background": "light"
     },
     "output_type": "display_data"
    },
    {
     "data": {
      "image/png": "[encoded data removed]",
      "text/plain": [
       "<Figure size 432x288 with 2 Axes>"
      ]
     },
     "metadata": {
      "needs_background": "light"
     },
     "output_type": "display_data"
    }
   ],
   "source": [
    "# Plot solution\n",
    "fig = plot(p_)\n",
    "plt.colorbar(fig)\n",
    "\n",
    "plt.show()\n",
    "\n",
    "fig = plot(u_)\n",
    "plt.colorbar(fig)\n",
    "\n",
    "plt.show()"
   ]
  },
  {
   "cell_type": "code",
   "execution_count": null,
   "metadata": {},
   "outputs": [],
   "source": []
  }
 ],
 "metadata": {
  "kernelspec": {
   "display_name": "Python 3",
   "language": "python",
   "name": "python3"
  },
  "language_info": {
   "codemirror_mode": {
    "name": "ipython",
    "version": 3
   },
   "file_extension": ".py",
   "mimetype": "text/x-python",
   "name": "python",
   "nbconvert_exporter": "python",
   "pygments_lexer": "ipython3",
   "version": "3.7.3"
  }
 },
 "nbformat": 4,
 "nbformat_minor": 2
}
