{
 "cells": [
  {
   "cell_type": "markdown",
   "metadata": {},
   "source": [
    "# Mesh generation and conversion with GMSH and PYGMSH"
   ]
  },
  {
   "cell_type": "markdown",
   "metadata": {},
   "source": [
    "In this tutorial, you will learn:\n",
    "1. [How to create a mesh with mesh markers in pygmsh](#first)\n",
    "2. [How to convert your mesh to XDMF](#second)\n",
    "3. [How to create 3D meshes with pygmsh](#third)\n",
    "\n",
    "This tutorial can be downloaded as a [Python-file](../converted_files/tutorial_pygmsh.py) or as a [Jupyter notebook](../notebooks/tutorial_pygmsh.ipynb)\n",
    "\n",
    "Prerequisites for this tutorial is to install [pygmsh](https://pypi.org/project/pygmsh), [meshio](https://pypi.org/project/meshio/4.1.1/) and [gmsh](https://gmsh.info/bin/Linux/gmsh-4.6.0-Linux64.tgz). All of these dependencies can be found in the docker image\n",
    "`dokken92/pygmsh`, which can be ran on any computer with docker using \n",
    "\n",
    "```bash\n",
    "docker run -v $(pwd):/root/shared -ti -w \"/root/shared\" --rm dokken92/pygmsh\n",
    "```\n",
    "\n",
    "## <a name=\"first\"></a> 1. How to create a mesh with pygmsh\n",
    "In this tutorial, we will learn how to create a channel with a circular obstacle, as used in the [DFG-2D 2 Turek benchmark](http://www.featflow.de/en/benchmarks/cfdbenchmarking/flow/dfg_benchmark2_re100.html).\n",
    "\n",
    "To do this, we use pygmsh.\n",
    "First we create an empty geometry and the circular obstacle:"
   ]
  },
  {
   "cell_type": "code",
   "execution_count": 4,
   "metadata": {},
   "outputs": [
    {
     "ename": "TypeError",
     "evalue": "add_circle() got an unexpected keyword argument 'mesh_size'",
     "output_type": "error",
     "traceback": [
      "\u001b[0;31m---------------------------------------------------------------------------\u001b[0m",
      "\u001b[0;31mTypeError\u001b[0m                                 Traceback (most recent call last)",
      "\u001b[0;32m<ipython-input-4-e63202a81bff>\u001b[0m in \u001b[0;36m<module>\u001b[0;34m\u001b[0m\n\u001b[1;32m     13\u001b[0m \u001b[0;31m#model = geometry.__enter__()\u001b[0m\u001b[0;34m\u001b[0m\u001b[0;34m\u001b[0m\u001b[0;34m\u001b[0m\u001b[0m\n\u001b[1;32m     14\u001b[0m \u001b[0;31m# Add circle\u001b[0m\u001b[0;34m\u001b[0m\u001b[0;34m\u001b[0m\u001b[0;34m\u001b[0m\u001b[0m\n\u001b[0;32m---> 15\u001b[0;31m \u001b[0mcircle\u001b[0m \u001b[0;34m=\u001b[0m \u001b[0mgeometry\u001b[0m\u001b[0;34m.\u001b[0m\u001b[0madd_circle\u001b[0m\u001b[0;34m(\u001b[0m\u001b[0mc\u001b[0m\u001b[0;34m,\u001b[0m \u001b[0mr\u001b[0m\u001b[0;34m,\u001b[0m \u001b[0mmesh_size\u001b[0m\u001b[0;34m=\u001b[0m\u001b[0mresolution\u001b[0m\u001b[0;34m)\u001b[0m\u001b[0;34m\u001b[0m\u001b[0;34m\u001b[0m\u001b[0m\n\u001b[0m",
      "\u001b[0;31mTypeError\u001b[0m: add_circle() got an unexpected keyword argument 'mesh_size'"
     ]
    }
   ],
   "source": [
    "import pygmsh\n",
    "resolution = 0.01\n",
    "\n",
    "# Channel parameters\n",
    "L = 2.2\n",
    "H = 0.41\n",
    "c = [0.2, 0.2, 0]\n",
    "r = 0.05\n",
    "\n",
    "# Initialize empty geometry using the build in kernel in GMSH\n",
    "geometry = pygmsh.built_in.Geometry()\n",
    "# Fetch model we would like to add data to\n",
    "#model = geometry.__enter__()\n",
    "# Add circle\n",
    "circle = geometry.add_circle(c, r, mesh_size=resolution)"
   ]
  },
  {
   "cell_type": "markdown",
   "metadata": {},
   "source": [
    "The next step is to create the channel with the circle as a hole."
   ]
  },
  {
   "cell_type": "code",
   "execution_count": 2,
   "metadata": {},
   "outputs": [],
   "source": [
    "# Add points with finer resolution on left side\n",
    "points = [model.add_point((0, 0, 0), mesh_size=resolution),\n",
    "          model.add_point((L, 0, 0), mesh_size=5*resolution),\n",
    "          model.add_point((L, H, 0), mesh_size=5*resolution),\n",
    "          model.add_point((0, H, 0), mesh_size=resolution)]\n",
    "\n",
    "# Add lines between all points creating the rectangle\n",
    "channel_lines = [model.add_line(points[i], points[i+1])\n",
    "                 for i in range(-1, len(points)-1)]\n",
    "\n",
    "# Create a line loop and plane surface for meshing\n",
    "channel_loop = model.add_curve_loop(channel_lines)\n",
    "plane_surface = model.add_plane_surface(\n",
    "    channel_loop, holes=[circle.curve_loop])\n",
    "\n",
    "# Call gmsh kernel before add physical entities\n",
    "model.synchronize()\n"
   ]
  },
  {
   "cell_type": "markdown",
   "metadata": {},
   "source": [
    "The final step before mesh generation is to mark the different boundaries and the volume mesh. Note that with pygmsh, boundaries with the same tag has to be added simultaneously. In this example this means that we have to add the top and \n",
    " bottom wall in one function call. "
   ]
  },
  {
   "cell_type": "code",
   "execution_count": 3,
   "metadata": {},
   "outputs": [],
   "source": [
    "volume_marker = 6\n",
    "model.add_physical([plane_surface], \"Volume\")\n",
    "model.add_physical([channel_lines[0]], \"Inflow\")\n",
    "model.add_physical([channel_lines[2]], \"Outflow\")\n",
    "model.add_physical([channel_lines[1], channel_lines[3]], \"Walls\")\n",
    "model.add_physical(circle.curve_loop.curves, \"Obstacle\")"
   ]
  },
  {
   "cell_type": "markdown",
   "metadata": {},
   "source": [
    "We generate the mesh using the pygmsh function `generate_mesh`. Generate mesh returns a `meshio.Mesh`. However, this mesh is tricky to extract physical tags from. Therefore we write the mesh to file using the `gmsh.write` function."
   ]
  },
  {
   "cell_type": "code",
   "execution_count": 4,
   "metadata": {},
   "outputs": [],
   "source": [
    "geometry.generate_mesh(dim=2)\n",
    "import gmsh\n",
    "gmsh.write(\"mesh.msh\")\n",
    "gmsh.clear()\n",
    "geometry.__exit__()"
   ]
  },
  {
   "cell_type": "markdown",
   "metadata": {},
   "source": [
    "## <a name=\"second\"></a>2. How to convert your mesh to XDMF\n",
    "Now that we have save the mesh to a `msh` file, we would like to convert it to a format that interfaces with dolfin and dolfin-X. \n",
    "For this I suggest using the `XDMF`-format as it supports parallel IO."
   ]
  },
  {
   "cell_type": "code",
   "execution_count": 5,
   "metadata": {},
   "outputs": [],
   "source": [
    "import meshio\n",
    "mesh_from_file = meshio.read(\"mesh.msh\")"
   ]
  },
  {
   "cell_type": "markdown",
   "metadata": {},
   "source": [
    "Now that we have loaded the mesh, we need to extract the cells and physical data. We need to create a separate file for the facets (lines), which we will use when we define boundary conditions in dolfin/dolfin-X. We do this with the following convenient function. Note that as we would like a 2 dimensional mesh, we need to remove the z-values in the mesh coordinates."
   ]
  },
  {
   "cell_type": "code",
   "execution_count": 6,
   "metadata": {},
   "outputs": [],
   "source": [
    "import numpy\n",
    "def create_mesh(mesh, cell_type, prune_z=False):\n",
    "    cells = mesh.get_cells_type(cell_type)\n",
    "    cell_data = mesh.get_cell_data(\"gmsh:physical\", cell_type)\n",
    "    out_mesh = meshio.Mesh(points=mesh.points, cells={cell_type: cells}, cell_data={\"name_to_read\":[cell_data]})\n",
    "    if prune_z:\n",
    "        out_mesh.prune_z_0()\n",
    "    return out_mesh"
   ]
  },
  {
   "cell_type": "markdown",
   "metadata": {},
   "source": [
    "With this function at hand, we can save the meshes to `XDMF`."
   ]
  },
  {
   "cell_type": "code",
   "execution_count": 7,
   "metadata": {},
   "outputs": [],
   "source": [
    "line_mesh = create_mesh(mesh_from_file, \"line\", prune_z=True)\n",
    "meshio.write(\"facet_mesh.xdmf\", line_mesh)\n",
    "\n",
    "triangle_mesh = create_mesh(mesh_from_file, \"triangle\", prune_z=True)\n",
    "meshio.write(\"mesh.xdmf\", triangle_mesh)"
   ]
  },
  {
   "cell_type": "markdown",
   "metadata": {},
   "source": [
    "## <a name=\"third\"></a>3. How to create a 3D mesh using pygmsh\n",
    "To create more advanced meshes, such as 3D geometries, using the OpenCASCADE geometry kernel is recommended.\n",
    "We start by importing this kernel, and creating three objects:\n",
    "- A box $[0,0,0]\\times[1,1,1]$\n",
    "- A box $[0.5,0.0.5,1]\\times[1,1,2]$\n",
    "- A ball from $[0.5,0.5,0.5]$ with radius $0.25$."
   ]
  },
  {
   "cell_type": "code",
   "execution_count": 8,
   "metadata": {},
   "outputs": [],
   "source": [
    "# Clear previous model\n",
    "mesh_size = 0.1\n",
    "geom = pygmsh.occ.Geometry()\n",
    "model3D = geom.__enter__()\n",
    "box0 =  model3D.add_box([0.0, 0, 0], [1, 1, 1])\n",
    "box1 =  model3D.add_box([0.5, 0.5, 1], [0.5, 0.5, 1])\n",
    "ball = model3D.add_ball([0.5, 0.5, 0.5], 0.25)"
   ]
  },
  {
   "cell_type": "markdown",
   "metadata": {},
   "source": [
    "In this demo, we would like to make a mesh that is the union of these three objects. \n",
    "In addition, we would like the internal boundary of the sphere to be preserved in the final mesh.\n",
    "We will do this by using boolean operations. First we make a `boolean_union` of the two boxes (whose internal boundaries will not be preserved). Then, we use boolean fragments to perserve the outer boundary of the sphere."
   ]
  },
  {
   "cell_type": "code",
   "execution_count": 9,
   "metadata": {},
   "outputs": [],
   "source": [
    "union = model3D.boolean_union([box0, box1])\n",
    "union_minus_ball = model3D.boolean_fragments(union, ball)\n",
    "model3D.synchronize()"
   ]
  },
  {
   "cell_type": "markdown",
   "metadata": {},
   "source": [
    "To create physical markers for the two regions, we use the `add_physical` function. This function only works nicely if the domain whose boundary should be preserved (the sphere) is fully embedded in the other domain (the union of boxes). For more complex operations, it is recommened to do the tagging of entities in the gmsh GUI, as explained in the [GMSH tutorial](converted_files/tutorial_gmsh.md)."
   ]
  },
  {
   "cell_type": "code",
   "execution_count": 10,
   "metadata": {},
   "outputs": [],
   "source": [
    "model3D.add_physical(union, \"Union\")\n",
    "model3D.add_physical(union_minus_ball, \"Union minus ball\")"
   ]
  },
  {
   "cell_type": "markdown",
   "metadata": {},
   "source": [
    "We finally generate the 3D mesh, and save both the geo and  msh file as in the previous example."
   ]
  },
  {
   "cell_type": "code",
   "execution_count": 11,
   "metadata": {},
   "outputs": [],
   "source": [
    "geom.generate_mesh(dim=3)\n",
    "gmsh.write(\"mesh3D.msh\")\n",
    "model3D.__exit__()"
   ]
  },
  {
   "cell_type": "markdown",
   "metadata": {},
   "source": [
    "These XDMF-files  can be visualized in Paraview and looks like\n",
    "\n",
    "![The 2D mesh and the corresponding facet data visualized in Paraview](../assets/img/mesh2D.png)\n",
    "\n",
    "We use the same strategy for the 3D mesh as the 2D mesh."
   ]
  },
  {
   "cell_type": "code",
   "execution_count": 12,
   "metadata": {},
   "outputs": [],
   "source": [
    "mesh3D_from_msh = meshio.read(\"mesh3D.msh\")\n",
    "tetra_mesh = create_mesh(mesh3D_from_msh, \"tetra\")\n",
    "meshio.write(\"mesh3D_from_msh.xdmf\", tetra_mesh)"
   ]
  },
  {
   "cell_type": "markdown",
   "metadata": {},
   "source": [
    "The 3D mesh can also be visualized in Paraview\n",
    "\n",
    "![3D mesh with cell markers in Paraview](../assets/img/mesh3D.png)"
   ]
  }
 ],
 "metadata": {
  "kernelspec": {
   "display_name": "Python 3",
   "language": "python",
   "name": "python3"
  },
  "language_info": {
   "codemirror_mode": {
    "name": "ipython",
    "version": 3
   },
   "file_extension": ".py",
   "mimetype": "text/x-python",
   "name": "python",
   "nbconvert_exporter": "python",
   "pygments_lexer": "ipython3",
   "version": "3.8.3"
  }
 },
 "nbformat": 4,
 "nbformat_minor": 4
}
