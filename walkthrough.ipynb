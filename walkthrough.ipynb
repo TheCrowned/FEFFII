{
 "cells": [
  {
   "cell_type": "markdown",
   "metadata": {},
   "source": [
    "We begin by importing the feffi package. Doing so will load all submodules, initialize the logging library (setting feffi log display level to `info` and fenics log display level to `debug`) and a default set of parameters. Look into `feffi/__init__.py` for more insight.\n",
    "\n",
    "To see documentation for individual functions, run `help FUNCNAME` in a python shell (ex. `help feffi.parameters.define_parameters()`)."
   ]
  },
  {
   "cell_type": "code",
   "execution_count": 1,
   "metadata": {},
   "outputs": [],
   "source": [
    "import feffi"
   ]
  },
  {
   "cell_type": "markdown",
   "metadata": {},
   "source": [
    "The default set of parameters comes from `feffi.parameters.define_parameters()`, which by default loads the config file `config/square.yml`. The function `feffi.parameters.define_parameters()` accepts one optional argument consisting of a dictionary with key-valued settings. \n",
    "\n",
    "Some examples:\n",
    "- `feffi.parameters.define_parameters()`: takes all values from config file `config/default.yml`.\n",
    "- `feffi.parameters.define_parameters(\n",
    "        user_config = {\n",
    "            'config_file' : os.path.join('config', 'square.yml')\n",
    "        }\n",
    "    )\n",
    "    `: takes values from config file `config/square.yml`.\n",
    "- `feffi.parameters.define_parameters(\n",
    "        user_config = {\n",
    "            'config_file' : os.path.join('config', 'square.yml'),\n",
    "            'final_time' : 24,\n",
    "            'mesh_resolution : 30\n",
    "        }\n",
    "    )\n",
    "    `: takes values from config file `config/square.yml` but replace `final_time` and `mesh_resolution` with specific values given.\n",
    "\n",
    "Some remarks on parameters handling throughout the code:\n",
    "- parameters are stored in a global variable called `config`. **Always access global configuration through something like:\n",
    "`from . import parameters;`\n",
    "`parameters.config`\n",
    "- all feffi functions rely on the global config set up by `feffi.parameters.define_parameters`. However, per-function changes are possible. All functions accept \\**kwargs."
   ]
  },
  {
   "cell_type": "markdown",
   "metadata": {},
   "source": [
    "It is possible to allow input of options from the terminal, which have higher priority with respect to config files and dictionary user provided config in the code. This can be achieved by adding a call to `feffi.parameters.parse_commandline_args()`. All config parameters can be tweaked from the terminal."
   ]
  },
  {
   "cell_type": "markdown",
   "metadata": {},
   "source": [
    "The next step is creating a mesh over the domain on which the simulation will run later."
   ]
  },
  {
   "cell_type": "code",
   "execution_count": 4,
   "metadata": {},
   "outputs": [
    {
     "name": "stderr",
     "output_type": "stream",
     "text": [
      "INFO:root:Initialized mesh: vertexes 121, max diameter 0.14\n"
     ]
    }
   ],
   "source": [
    "mesh = feffi.mesh.create_mesh()"
   ]
  },
  {
   "cell_type": "markdown",
   "metadata": {},
   "source": [
    "We then proceed to define the function spaces for velocity, pressure, temperature and salinity on the mesh. The solutions (and functions in all intermediate steps) will belong to these spaces."
   ]
  },
  {
   "cell_type": "code",
   "execution_count": 5,
   "metadata": {},
   "outputs": [],
   "source": [
    "f_spaces = feffi.functions.define_function_spaces(mesh)"
   ]
  },
  {
   "cell_type": "markdown",
   "metadata": {},
   "source": [
    "In a similar fashion, we need to define the functions that will later be used in the variational formulations."
   ]
  },
  {
   "cell_type": "code",
   "execution_count": 6,
   "metadata": {},
   "outputs": [],
   "source": [
    "f = feffi.functions.define_functions(f_spaces)"
   ]
  },
  {
   "cell_type": "markdown",
   "metadata": {},
   "source": [
    "By default (from FEniCS), all functions are initialized being zero on all mesh points.\n",
    "An optional (but advised) step is to initialize them to a stable state drawn from the given config. This has the effect of speeding up convergence, since the simulation will start from a state that is closer to the solution."
   ]
  },
  {
   "cell_type": "code",
   "execution_count": 7,
   "metadata": {},
   "outputs": [],
   "source": [
    "feffi.functions.init_functions(f)"
   ]
  },
  {
   "cell_type": "markdown",
   "metadata": {},
   "source": [
    "This will initialize functions in the following manner:\n",
    "- pressure to hydrostatic: $\\rho_0 g (1-y)$ (we use $1-y$ so that P = 0 at the top) WARNING:::: this creates problems if P is NOT set to 0 at some top point\n",
    "- temperature to `T_0`\n",
    "- salinity to `S_0`\n",
    "\n",
    "(thinking about velocity to be init with BC applied)"
   ]
  },
  {
   "cell_type": "markdown",
   "metadata": {},
   "source": [
    "We can now define the variational prolems to be solved. We use a modified version of Chorin's method, the so-called Incremental Pressure Correction Splitting (_IPCS_) scheme due to Goda (1979)."
   ]
  },
  {
   "cell_type": "code",
   "execution_count": 8,
   "metadata": {},
   "outputs": [
    {
     "name": "stderr",
     "output_type": "stream",
     "text": [
      "INFO:root:Defined variational problems\n"
     ]
    }
   ],
   "source": [
    "(stiffness_mats, load_vectors) = feffi.functions.define_variational_problems(f, mesh)"
   ]
  },
  {
   "cell_type": "markdown",
   "metadata": {},
   "source": [
    "With the problems defined, we only need to specify what the boundaries are and which boundary conditions we would like to be enforced.\n",
    "\n",
    "Boundaries are defined depending on whether the `domain` is `square` or `fjord`, and assigned an integer marker. The BCs that are applied are taken from the config, but can be tweaked by providing a dict as `BCs` parameter."
   ]
  },
  {
   "cell_type": "code",
   "execution_count": 14,
   "metadata": {},
   "outputs": [
    {
     "name": "stderr",
     "output_type": "stream",
     "text": [
      "INFO:root:BCs - Boundary right, space V[0] (marker 1), value 0.5*sin(2*pi*x[1])\n",
      "INFO:root:BCs - Boundary right, space V[1] (marker 1), value 0\n",
      "INFO:root:BCs - Boundary bottom, space V[0] (marker 2), value 0\n",
      "INFO:root:BCs - Boundary bottom, space V[1] (marker 2), value 0\n",
      "INFO:root:BCs - Boundary left, space V[0] (marker 3), value 0\n",
      "INFO:root:BCs - Boundary left, space V[1] (marker 3), value 0\n",
      "INFO:root:BCs - Boundary top, space V[0] (marker 4), value 0\n",
      "INFO:root:BCs - Boundary top, space V[1] (marker 4), value 0\n",
      "INFO:root:BCs - Boundary right, space T (marker 1), value 3\n",
      "INFO:root:BCs - Boundary left, space T (marker 3), value -1.9\n",
      "INFO:root:BCs - Boundary right, space S (marker 1), value 35\n",
      "INFO:root:BCs - Boundary left, space S (marker 3), value 34.5\n",
      "INFO:root:BCs - Top-right corner (1.000000, 1.000000), space Q, value 0\n"
     ]
    }
   ],
   "source": [
    "domain = feffi.boundaries.Domain(mesh, f_spaces)"
   ]
  },
  {
   "cell_type": "markdown",
   "metadata": {},
   "source": [
    "Then, we are finally ready to start the simulation (we'll set to only run up to 100 timestamps to showcase here)."
   ]
  },
  {
   "cell_type": "code",
   "execution_count": 19,
   "metadata": {},
   "outputs": [
    {
     "name": "stderr",
     "output_type": "stream",
     "text": [
      "INFO:root:Initialized simulation\n"
     ]
    }
   ],
   "source": [
    "simulation = feffi.simulation.Simulation(f, stiffness_mats, load_vectors, domain.BCs, max_iter = 100)"
   ]
  },
  {
   "cell_type": "code",
   "execution_count": 20,
   "metadata": {},
   "outputs": [
    {
     "name": "stderr",
     "output_type": "stream",
     "text": [
      "INFO:root:Timestep 0 of 100000: \n",
      "  ||u|| = 0.389, ||u||_8 = 0.816, ||u-u_n|| = 0.005, ||u-u_n||/||u|| = 0.012, \n",
      "  ||p|| = 5792092.742, ||p||_8 = 10032535.453, ||p-p_n|| = 2.624, ||p-p_n||/||p|| = 0.0, \n",
      "  ||T|| = 1.295, ||T||_8 = 3.0, ||T-T_n|| = 0.009, ||T-T_n||/||T|| = 0.007, \n",
      "  ||S|| = 34.893, ||S||_8 = 35.114, ||S - S_n|| = 0.001, ||S - S_n||/||S|| = 0.0\n",
      "INFO:root:Timestep 1 of 100000: \n",
      "  ||u|| = 0.389, ||u||_8 = 0.817, ||u-u_n|| = 0.005, ||u-u_n||/||u|| = 0.012, \n",
      "  ||p|| = 5792092.512, ||p||_8 = 10032535.102, ||p-p_n|| = 2.618, ||p-p_n||/||p|| = 0.0, \n",
      "  ||T|| = 1.295, ||T||_8 = 3.0, ||T-T_n|| = 0.009, ||T-T_n||/||T|| = 0.007, \n",
      "  ||S|| = 34.893, ||S||_8 = 35.114, ||S - S_n|| = 0.001, ||S - S_n||/||S|| = 0.0\n",
      "INFO:root:Timestep 2 of 100000: \n",
      "  ||u|| = 0.389, ||u||_8 = 0.817, ||u-u_n|| = 0.005, ||u-u_n||/||u|| = 0.012, \n",
      "  ||p|| = 5792092.282, ||p||_8 = 10032534.751, ||p-p_n|| = 2.62, ||p-p_n||/||p|| = 0.0, \n",
      "  ||T|| = 1.295, ||T||_8 = 3.0, ||T-T_n|| = 0.009, ||T-T_n||/||T|| = 0.007, \n",
      "  ||S|| = 34.893, ||S||_8 = 35.114, ||S - S_n|| = 0.001, ||S - S_n||/||S|| = 0.0\n",
      "INFO:root:Timestep 3 of 100000: \n",
      "  ||u|| = 0.389, ||u||_8 = 0.818, ||u-u_n|| = 0.005, ||u-u_n||/||u|| = 0.012, \n",
      "  ||p|| = 5792092.051, ||p||_8 = 10032534.4, ||p-p_n|| = 2.621, ||p-p_n||/||p|| = 0.0, \n",
      "  ||T|| = 1.296, ||T||_8 = 3.0, ||T-T_n|| = 0.009, ||T-T_n||/||T|| = 0.007, \n",
      "  ||S|| = 34.893, ||S||_8 = 35.114, ||S - S_n|| = 0.001, ||S - S_n||/||S|| = 0.0\n",
      "INFO:root:Timestep 4 of 100000: \n",
      "  ||u|| = 0.389, ||u||_8 = 0.818, ||u-u_n|| = 0.005, ||u-u_n||/||u|| = 0.012, \n",
      "  ||p|| = 5792091.821, ||p||_8 = 10032534.049, ||p-p_n|| = 2.62, ||p-p_n||/||p|| = 0.0, \n",
      "  ||T|| = 1.296, ||T||_8 = 3.0, ||T-T_n|| = 0.009, ||T-T_n||/||T|| = 0.007, \n",
      "  ||S|| = 34.893, ||S||_8 = 35.114, ||S - S_n|| = 0.001, ||S - S_n||/||S|| = 0.0\n"
     ]
    }
   ],
   "source": [
    "for i in range(5):\n",
    "    simulation.timestep()"
   ]
  },
  {
   "cell_type": "markdown",
   "metadata": {},
   "source": [
    "`simulation.timestep()` allows to progress the simulation by one timestep, but it can also be let run freely until convergence (or until desired precision is reached)"
   ]
  },
  {
   "cell_type": "code",
   "execution_count": 21,
   "metadata": {},
   "outputs": [
    {
     "name": "stderr",
     "output_type": "stream",
     "text": [
      "INFO:root:Running full simulation; started at 2020-10-19 11:55:47.857334 \n",
      "INFO:root:Timestep 5 of 100000: \n",
      "  ||u|| = 0.389, ||u||_8 = 0.819, ||u-u_n|| = 0.005, ||u-u_n||/||u|| = 0.012, \n",
      "  ||p|| = 5792091.591, ||p||_8 = 10032533.698, ||p-p_n|| = 2.617, ||p-p_n||/||p|| = 0.0, \n",
      "  ||T|| = 1.296, ||T||_8 = 3.0, ||T-T_n|| = 0.009, ||T-T_n||/||T|| = 0.007, \n",
      "  ||S|| = 34.893, ||S||_8 = 35.114, ||S - S_n|| = 0.001, ||S - S_n||/||S|| = 0.0\n",
      "INFO:root:Timestep 6 of 100000: \n",
      "  ||u|| = 0.39, ||u||_8 = 0.819, ||u-u_n|| = 0.005, ||u-u_n||/||u|| = 0.012, \n",
      "  ||p|| = 5792091.361, ||p||_8 = 10032533.347, ||p-p_n|| = 2.614, ||p-p_n||/||p|| = 0.0, \n",
      "  ||T|| = 1.297, ||T||_8 = 3.0, ||T-T_n|| = 0.009, ||T-T_n||/||T|| = 0.007, \n",
      "  ||S|| = 34.893, ||S||_8 = 35.114, ||S - S_n|| = 0.001, ||S - S_n||/||S|| = 0.0\n",
      "INFO:root:Timestep 7 of 100000: \n",
      "  ||u|| = 0.39, ||u||_8 = 0.82, ||u-u_n|| = 0.005, ||u-u_n||/||u|| = 0.012, \n",
      "  ||p|| = 5792091.131, ||p||_8 = 10032532.996, ||p-p_n|| = 2.611, ||p-p_n||/||p|| = 0.0, \n",
      "  ||T|| = 1.297, ||T||_8 = 3.0, ||T-T_n|| = 0.009, ||T-T_n||/||T|| = 0.007, \n",
      "  ||S|| = 34.893, ||S||_8 = 35.114, ||S - S_n|| = 0.001, ||S - S_n||/||S|| = 0.0\n",
      "INFO:root:Timestep 8 of 100000: \n",
      "  ||u|| = 0.39, ||u||_8 = 0.821, ||u-u_n|| = 0.005, ||u-u_n||/||u|| = 0.012, \n",
      "  ||p|| = 5792090.901, ||p||_8 = 10032532.646, ||p-p_n|| = 2.609, ||p-p_n||/||p|| = 0.0, \n",
      "  ||T|| = 1.297, ||T||_8 = 3.0, ||T-T_n|| = 0.009, ||T-T_n||/||T|| = 0.007, \n",
      "  ||S|| = 34.893, ||S||_8 = 35.114, ||S - S_n|| = 0.001, ||S - S_n||/||S|| = 0.0\n",
      "INFO:root:Timestep 9 of 100000: \n",
      "  ||u|| = 0.39, ||u||_8 = 0.821, ||u-u_n|| = 0.004, ||u-u_n||/||u|| = 0.012, \n",
      "  ||p|| = 5792090.672, ||p||_8 = 10032532.295, ||p-p_n|| = 2.606, ||p-p_n||/||p|| = 0.0, \n",
      "  ||T|| = 1.297, ||T||_8 = 3.0, ||T-T_n|| = 0.009, ||T-T_n||/||T|| = 0.007, \n",
      "  ||S|| = 34.893, ||S||_8 = 35.114, ||S - S_n|| = 0.001, ||S - S_n||/||S|| = 0.0\n",
      "INFO:root:Timestep 10 of 100000: \n",
      "  ||u|| = 0.39, ||u||_8 = 0.822, ||u-u_n|| = 0.004, ||u-u_n||/||u|| = 0.012, \n",
      "  ||p|| = 5792090.443, ||p||_8 = 10032531.945, ||p-p_n|| = 2.603, ||p-p_n||/||p|| = 0.0, \n",
      "  ||T|| = 1.298, ||T||_8 = 3.0, ||T-T_n|| = 0.009, ||T-T_n||/||T|| = 0.007, \n",
      "  ||S|| = 34.892, ||S||_8 = 35.114, ||S - S_n|| = 0.001, ||S - S_n||/||S|| = 0.0\n",
      "INFO:root:Timestep 11 of 100000: \n",
      "  ||u|| = 0.39, ||u||_8 = 0.822, ||u-u_n|| = 0.004, ||u-u_n||/||u|| = 0.011, \n",
      "  ||p|| = 5792090.214, ||p||_8 = 10032531.596, ||p-p_n|| = 2.601, ||p-p_n||/||p|| = 0.0, \n",
      "  ||T|| = 1.298, ||T||_8 = 3.0, ||T-T_n|| = 0.009, ||T-T_n||/||T|| = 0.007, \n",
      "  ||S|| = 34.892, ||S||_8 = 35.114, ||S - S_n|| = 0.001, ||S - S_n||/||S|| = 0.0\n",
      "INFO:root:Timestep 12 of 100000: \n",
      "  ||u|| = 0.391, ||u||_8 = 0.823, ||u-u_n|| = 0.004, ||u-u_n||/||u|| = 0.011, \n",
      "  ||p|| = 5792089.986, ||p||_8 = 10032531.246, ||p-p_n|| = 2.598, ||p-p_n||/||p|| = 0.0, \n",
      "  ||T|| = 1.298, ||T||_8 = 3.0, ||T-T_n|| = 0.009, ||T-T_n||/||T|| = 0.007, \n",
      "  ||S|| = 34.892, ||S||_8 = 35.114, ||S - S_n|| = 0.001, ||S - S_n||/||S|| = 0.0\n",
      "INFO:root:Timestep 13 of 100000: \n",
      "  ||u|| = 0.391, ||u||_8 = 0.823, ||u-u_n|| = 0.004, ||u-u_n||/||u|| = 0.011, \n",
      "  ||p|| = 5792089.757, ||p||_8 = 10032530.897, ||p-p_n|| = 2.596, ||p-p_n||/||p|| = 0.0, \n",
      "  ||T|| = 1.299, ||T||_8 = 3.0, ||T-T_n|| = 0.009, ||T-T_n||/||T|| = 0.007, \n",
      "  ||S|| = 34.892, ||S||_8 = 35.114, ||S - S_n|| = 0.001, ||S - S_n||/||S|| = 0.0\n",
      "INFO:root:Timestep 14 of 100000: \n",
      "  ||u|| = 0.391, ||u||_8 = 0.824, ||u-u_n|| = 0.004, ||u-u_n||/||u|| = 0.011, \n",
      "  ||p|| = 5792089.529, ||p||_8 = 10032530.548, ||p-p_n|| = 2.593, ||p-p_n||/||p|| = 0.0, \n",
      "  ||T|| = 1.299, ||T||_8 = 3.0, ||T-T_n|| = 0.009, ||T-T_n||/||T|| = 0.007, \n",
      "  ||S|| = 34.892, ||S||_8 = 35.114, ||S - S_n|| = 0.001, ||S - S_n||/||S|| = 0.0\n",
      "INFO:root:Timestep 15 of 100000: \n",
      "  ||u|| = 0.391, ||u||_8 = 0.824, ||u-u_n|| = 0.004, ||u-u_n||/||u|| = 0.011, \n",
      "  ||p|| = 5792089.301, ||p||_8 = 10032530.199, ||p-p_n|| = 2.591, ||p-p_n||/||p|| = 0.0, \n",
      "  ||T|| = 1.299, ||T||_8 = 3.0, ||T-T_n|| = 0.009, ||T-T_n||/||T|| = 0.007, \n",
      "  ||S|| = 34.892, ||S||_8 = 35.114, ||S - S_n|| = 0.001, ||S - S_n||/||S|| = 0.0\n",
      "INFO:root:Timestep 16 of 100000: \n",
      "  ||u|| = 0.391, ||u||_8 = 0.825, ||u-u_n|| = 0.004, ||u-u_n||/||u|| = 0.011, \n",
      "  ||p|| = 5792089.074, ||p||_8 = 10032529.85, ||p-p_n|| = 2.588, ||p-p_n||/||p|| = 0.0, \n",
      "  ||T|| = 1.299, ||T||_8 = 3.0, ||T-T_n|| = 0.009, ||T-T_n||/||T|| = 0.007, \n",
      "  ||S|| = 34.892, ||S||_8 = 35.114, ||S - S_n|| = 0.001, ||S - S_n||/||S|| = 0.0\n",
      "INFO:root:Timestep 17 of 100000: \n",
      "  ||u|| = 0.391, ||u||_8 = 0.825, ||u-u_n|| = 0.004, ||u-u_n||/||u|| = 0.011, \n",
      "  ||p|| = 5792088.846, ||p||_8 = 10032529.501, ||p-p_n|| = 2.586, ||p-p_n||/||p|| = 0.0, \n",
      "  ||T|| = 1.3, ||T||_8 = 3.0, ||T-T_n|| = 0.009, ||T-T_n||/||T|| = 0.007, \n",
      "  ||S|| = 34.892, ||S||_8 = 35.114, ||S - S_n|| = 0.001, ||S - S_n||/||S|| = 0.0\n",
      "INFO:root:Timestep 18 of 100000: \n",
      "  ||u|| = 0.392, ||u||_8 = 0.826, ||u-u_n|| = 0.004, ||u-u_n||/||u|| = 0.011, \n",
      "  ||p|| = 5792088.619, ||p||_8 = 10032529.153, ||p-p_n|| = 2.583, ||p-p_n||/||p|| = 0.0, \n",
      "  ||T|| = 1.3, ||T||_8 = 3.0, ||T-T_n|| = 0.009, ||T-T_n||/||T|| = 0.007, \n",
      "  ||S|| = 34.892, ||S||_8 = 35.114, ||S - S_n|| = 0.001, ||S - S_n||/||S|| = 0.0\n",
      "INFO:root:Timestep 19 of 100000: \n",
      "  ||u|| = 0.392, ||u||_8 = 0.826, ||u-u_n|| = 0.004, ||u-u_n||/||u|| = 0.011, \n",
      "  ||p|| = 5792088.392, ||p||_8 = 10032528.805, ||p-p_n|| = 2.58, ||p-p_n||/||p|| = 0.0, \n",
      "  ||T|| = 1.3, ||T||_8 = 3.0, ||T-T_n|| = 0.009, ||T-T_n||/||T|| = 0.007, \n",
      "  ||S|| = 34.892, ||S||_8 = 35.114, ||S - S_n|| = 0.001, ||S - S_n||/||S|| = 0.0\n",
      "INFO:root:Timestep 20 of 100000: \n",
      "  ||u|| = 0.392, ||u||_8 = 0.827, ||u-u_n|| = 0.004, ||u-u_n||/||u|| = 0.011, \n",
      "  ||p|| = 5792088.165, ||p||_8 = 10032528.457, ||p-p_n|| = 2.578, ||p-p_n||/||p|| = 0.0, \n",
      "  ||T|| = 1.3, ||T||_8 = 3.0, ||T-T_n|| = 0.009, ||T-T_n||/||T|| = 0.007, \n",
      "  ||S|| = 34.892, ||S||_8 = 35.114, ||S - S_n|| = 0.001, ||S - S_n||/||S|| = 0.0\n",
      "INFO:root:Timestep 21 of 100000: \n",
      "  ||u|| = 0.392, ||u||_8 = 0.827, ||u-u_n|| = 0.004, ||u-u_n||/||u|| = 0.011, \n",
      "  ||p|| = 5792087.939, ||p||_8 = 10032528.109, ||p-p_n|| = 2.575, ||p-p_n||/||p|| = 0.0, \n",
      "  ||T|| = 1.301, ||T||_8 = 3.0, ||T-T_n|| = 0.009, ||T-T_n||/||T|| = 0.007, \n",
      "  ||S|| = 34.892, ||S||_8 = 35.114, ||S - S_n|| = 0.001, ||S - S_n||/||S|| = 0.0\n",
      "INFO:root:Timestep 22 of 100000: \n",
      "  ||u|| = 0.392, ||u||_8 = 0.828, ||u-u_n|| = 0.004, ||u-u_n||/||u|| = 0.011, \n",
      "  ||p|| = 5792087.713, ||p||_8 = 10032527.762, ||p-p_n|| = 2.573, ||p-p_n||/||p|| = 0.0, \n",
      "  ||T|| = 1.301, ||T||_8 = 3.0, ||T-T_n|| = 0.009, ||T-T_n||/||T|| = 0.007, \n",
      "  ||S|| = 34.892, ||S||_8 = 35.114, ||S - S_n|| = 0.001, ||S - S_n||/||S|| = 0.0\n",
      "INFO:root:Timestep 23 of 100000: \n",
      "  ||u|| = 0.392, ||u||_8 = 0.828, ||u-u_n|| = 0.004, ||u-u_n||/||u|| = 0.011, \n",
      "  ||p|| = 5792087.486, ||p||_8 = 10032527.414, ||p-p_n|| = 2.57, ||p-p_n||/||p|| = 0.0, \n",
      "  ||T|| = 1.301, ||T||_8 = 3.0, ||T-T_n|| = 0.009, ||T-T_n||/||T|| = 0.007, \n",
      "  ||S|| = 34.892, ||S||_8 = 35.114, ||S - S_n|| = 0.001, ||S - S_n||/||S|| = 0.0\n",
      "INFO:root:Timestep 24 of 100000: \n",
      "  ||u|| = 0.392, ||u||_8 = 0.829, ||u-u_n|| = 0.004, ||u-u_n||/||u|| = 0.011, \n",
      "  ||p|| = 5792087.261, ||p||_8 = 10032527.067, ||p-p_n|| = 2.568, ||p-p_n||/||p|| = 0.0, \n",
      "  ||T|| = 1.302, ||T||_8 = 3.0, ||T-T_n|| = 0.009, ||T-T_n||/||T|| = 0.007, \n",
      "  ||S|| = 34.892, ||S||_8 = 35.114, ||S - S_n|| = 0.001, ||S - S_n||/||S|| = 0.0\n",
      "INFO:root:Timestep 25 of 100000: \n",
      "  ||u|| = 0.393, ||u||_8 = 0.829, ||u-u_n|| = 0.004, ||u-u_n||/||u|| = 0.011, \n",
      "  ||p|| = 5792087.035, ||p||_8 = 10032526.72, ||p-p_n|| = 2.565, ||p-p_n||/||p|| = 0.0, \n",
      "  ||T|| = 1.302, ||T||_8 = 3.0, ||T-T_n|| = 0.009, ||T-T_n||/||T|| = 0.007, \n",
      "  ||S|| = 34.892, ||S||_8 = 35.114, ||S - S_n|| = 0.001, ||S - S_n||/||S|| = 0.0\n",
      "INFO:root:Timestep 26 of 100000: \n",
      "  ||u|| = 0.393, ||u||_8 = 0.83, ||u-u_n|| = 0.004, ||u-u_n||/||u|| = 0.011, \n",
      "  ||p|| = 5792086.809, ||p||_8 = 10032526.374, ||p-p_n|| = 2.563, ||p-p_n||/||p|| = 0.0, \n",
      "  ||T|| = 1.302, ||T||_8 = 3.0, ||T-T_n|| = 0.009, ||T-T_n||/||T|| = 0.007, \n",
      "  ||S|| = 34.892, ||S||_8 = 35.114, ||S - S_n|| = 0.001, ||S - S_n||/||S|| = 0.0\n",
      "INFO:root:Timestep 27 of 100000: \n",
      "  ||u|| = 0.393, ||u||_8 = 0.83, ||u-u_n|| = 0.004, ||u-u_n||/||u|| = 0.011, \n",
      "  ||p|| = 5792086.584, ||p||_8 = 10032526.027, ||p-p_n|| = 2.56, ||p-p_n||/||p|| = 0.0, \n",
      "  ||T|| = 1.302, ||T||_8 = 3.0, ||T-T_n|| = 0.009, ||T-T_n||/||T|| = 0.007, \n",
      "  ||S|| = 34.892, ||S||_8 = 35.114, ||S - S_n|| = 0.001, ||S - S_n||/||S|| = 0.0\n"
     ]
    },
    {
     "name": "stderr",
     "output_type": "stream",
     "text": [
      "INFO:root:Timestep 28 of 100000: \n",
      "  ||u|| = 0.393, ||u||_8 = 0.831, ||u-u_n|| = 0.004, ||u-u_n||/||u|| = 0.011, \n",
      "  ||p|| = 5792086.359, ||p||_8 = 10032525.681, ||p-p_n|| = 2.558, ||p-p_n||/||p|| = 0.0, \n",
      "  ||T|| = 1.303, ||T||_8 = 3.0, ||T-T_n|| = 0.009, ||T-T_n||/||T|| = 0.007, \n",
      "  ||S|| = 34.892, ||S||_8 = 35.114, ||S - S_n|| = 0.001, ||S - S_n||/||S|| = 0.0\n",
      "INFO:root:Timestep 29 of 100000: \n",
      "  ||u|| = 0.393, ||u||_8 = 0.831, ||u-u_n|| = 0.004, ||u-u_n||/||u|| = 0.011, \n",
      "  ||p|| = 5792086.134, ||p||_8 = 10032525.335, ||p-p_n|| = 2.555, ||p-p_n||/||p|| = 0.0, \n",
      "  ||T|| = 1.303, ||T||_8 = 3.0, ||T-T_n|| = 0.009, ||T-T_n||/||T|| = 0.007, \n",
      "  ||S|| = 34.891, ||S||_8 = 35.114, ||S - S_n|| = 0.001, ||S - S_n||/||S|| = 0.0\n",
      "INFO:root:Timestep 30 of 100000: \n",
      "  ||u|| = 0.393, ||u||_8 = 0.832, ||u-u_n|| = 0.004, ||u-u_n||/||u|| = 0.011, \n",
      "  ||p|| = 5792085.91, ||p||_8 = 10032524.989, ||p-p_n|| = 2.553, ||p-p_n||/||p|| = 0.0, \n",
      "  ||T|| = 1.303, ||T||_8 = 3.0, ||T-T_n|| = 0.009, ||T-T_n||/||T|| = 0.007, \n",
      "  ||S|| = 34.891, ||S||_8 = 35.114, ||S - S_n|| = 0.001, ||S - S_n||/||S|| = 0.0\n",
      "INFO:root:Timestep 31 of 100000: \n",
      "  ||u|| = 0.394, ||u||_8 = 0.832, ||u-u_n|| = 0.004, ||u-u_n||/||u|| = 0.011, \n",
      "  ||p|| = 5792085.686, ||p||_8 = 10032524.643, ||p-p_n|| = 2.551, ||p-p_n||/||p|| = 0.0, \n",
      "  ||T|| = 1.304, ||T||_8 = 3.0, ||T-T_n|| = 0.009, ||T-T_n||/||T|| = 0.007, \n",
      "  ||S|| = 34.891, ||S||_8 = 35.114, ||S - S_n|| = 0.001, ||S - S_n||/||S|| = 0.0\n",
      "INFO:root:Timestep 32 of 100000: \n",
      "  ||u|| = 0.394, ||u||_8 = 0.833, ||u-u_n|| = 0.004, ||u-u_n||/||u|| = 0.011, \n",
      "  ||p|| = 5792085.461, ||p||_8 = 10032524.297, ||p-p_n|| = 2.548, ||p-p_n||/||p|| = 0.0, \n",
      "  ||T|| = 1.304, ||T||_8 = 3.0, ||T-T_n|| = 0.009, ||T-T_n||/||T|| = 0.007, \n",
      "  ||S|| = 34.891, ||S||_8 = 35.114, ||S - S_n|| = 0.001, ||S - S_n||/||S|| = 0.0\n",
      "INFO:root:Timestep 33 of 100000: \n",
      "  ||u|| = 0.394, ||u||_8 = 0.833, ||u-u_n|| = 0.004, ||u-u_n||/||u|| = 0.011, \n",
      "  ||p|| = 5792085.238, ||p||_8 = 10032523.952, ||p-p_n|| = 2.546, ||p-p_n||/||p|| = 0.0, \n",
      "  ||T|| = 1.304, ||T||_8 = 3.0, ||T-T_n|| = 0.009, ||T-T_n||/||T|| = 0.007, \n",
      "  ||S|| = 34.891, ||S||_8 = 35.114, ||S - S_n|| = 0.001, ||S - S_n||/||S|| = 0.0\n",
      "INFO:root:Timestep 34 of 100000: \n",
      "  ||u|| = 0.394, ||u||_8 = 0.834, ||u-u_n|| = 0.004, ||u-u_n||/||u|| = 0.011, \n",
      "  ||p|| = 5792085.014, ||p||_8 = 10032523.607, ||p-p_n|| = 2.543, ||p-p_n||/||p|| = 0.0, \n",
      "  ||T|| = 1.304, ||T||_8 = 3.0, ||T-T_n|| = 0.009, ||T-T_n||/||T|| = 0.007, \n",
      "  ||S|| = 34.891, ||S||_8 = 35.114, ||S - S_n|| = 0.001, ||S - S_n||/||S|| = 0.0\n",
      "INFO:root:Timestep 35 of 100000: \n",
      "  ||u|| = 0.394, ||u||_8 = 0.834, ||u-u_n|| = 0.004, ||u-u_n||/||u|| = 0.011, \n",
      "  ||p|| = 5792084.79, ||p||_8 = 10032523.262, ||p-p_n|| = 2.541, ||p-p_n||/||p|| = 0.0, \n",
      "  ||T|| = 1.305, ||T||_8 = 3.0, ||T-T_n|| = 0.009, ||T-T_n||/||T|| = 0.007, \n",
      "  ||S|| = 34.891, ||S||_8 = 35.114, ||S - S_n|| = 0.001, ||S - S_n||/||S|| = 0.0\n",
      "INFO:root:Timestep 36 of 100000: \n",
      "  ||u|| = 0.394, ||u||_8 = 0.835, ||u-u_n|| = 0.004, ||u-u_n||/||u|| = 0.011, \n",
      "  ||p|| = 5792084.567, ||p||_8 = 10032522.917, ||p-p_n|| = 2.538, ||p-p_n||/||p|| = 0.0, \n",
      "  ||T|| = 1.305, ||T||_8 = 3.0, ||T-T_n|| = 0.009, ||T-T_n||/||T|| = 0.007, \n",
      "  ||S|| = 34.891, ||S||_8 = 35.114, ||S - S_n|| = 0.001, ||S - S_n||/||S|| = 0.0\n",
      "INFO:root:Timestep 37 of 100000: \n",
      "  ||u|| = 0.394, ||u||_8 = 0.835, ||u-u_n|| = 0.004, ||u-u_n||/||u|| = 0.011, \n",
      "  ||p|| = 5792084.344, ||p||_8 = 10032522.573, ||p-p_n|| = 2.536, ||p-p_n||/||p|| = 0.0, \n",
      "  ||T|| = 1.305, ||T||_8 = 3.0, ||T-T_n|| = 0.009, ||T-T_n||/||T|| = 0.007, \n",
      "  ||S|| = 34.891, ||S||_8 = 35.114, ||S - S_n|| = 0.001, ||S - S_n||/||S|| = 0.0\n",
      "INFO:root:Timestep 38 of 100000: \n",
      "  ||u|| = 0.395, ||u||_8 = 0.836, ||u-u_n|| = 0.004, ||u-u_n||/||u|| = 0.011, \n",
      "  ||p|| = 5792084.121, ||p||_8 = 10032522.228, ||p-p_n|| = 2.533, ||p-p_n||/||p|| = 0.0, \n",
      "  ||T|| = 1.305, ||T||_8 = 3.0, ||T-T_n|| = 0.009, ||T-T_n||/||T|| = 0.007, \n",
      "  ||S|| = 34.891, ||S||_8 = 35.114, ||S - S_n|| = 0.001, ||S - S_n||/||S|| = 0.0\n",
      "INFO:root:Timestep 39 of 100000: \n",
      "  ||u|| = 0.395, ||u||_8 = 0.836, ||u-u_n|| = 0.004, ||u-u_n||/||u|| = 0.011, \n",
      "  ||p|| = 5792083.899, ||p||_8 = 10032521.884, ||p-p_n|| = 2.531, ||p-p_n||/||p|| = 0.0, \n",
      "  ||T|| = 1.306, ||T||_8 = 3.0, ||T-T_n|| = 0.009, ||T-T_n||/||T|| = 0.007, \n",
      "  ||S|| = 34.891, ||S||_8 = 35.114, ||S - S_n|| = 0.001, ||S - S_n||/||S|| = 0.0\n",
      "INFO:root:Timestep 40 of 100000: \n",
      "  ||u|| = 0.395, ||u||_8 = 0.837, ||u-u_n|| = 0.004, ||u-u_n||/||u|| = 0.011, \n",
      "  ||p|| = 5792083.676, ||p||_8 = 10032521.54, ||p-p_n|| = 2.529, ||p-p_n||/||p|| = 0.0, \n",
      "  ||T|| = 1.306, ||T||_8 = 3.0, ||T-T_n|| = 0.009, ||T-T_n||/||T|| = 0.007, \n",
      "  ||S|| = 34.891, ||S||_8 = 35.114, ||S - S_n|| = 0.001, ||S - S_n||/||S|| = 0.0\n",
      "INFO:root:Timestep 41 of 100000: \n",
      "  ||u|| = 0.395, ||u||_8 = 0.837, ||u-u_n|| = 0.004, ||u-u_n||/||u|| = 0.011, \n",
      "  ||p|| = 5792083.454, ||p||_8 = 10032521.196, ||p-p_n|| = 2.526, ||p-p_n||/||p|| = 0.0, \n",
      "  ||T|| = 1.306, ||T||_8 = 3.0, ||T-T_n|| = 0.009, ||T-T_n||/||T|| = 0.007, \n",
      "  ||S|| = 34.891, ||S||_8 = 35.114, ||S - S_n|| = 0.001, ||S - S_n||/||S|| = 0.0\n",
      "INFO:root:Timestep 42 of 100000: \n",
      "  ||u|| = 0.395, ||u||_8 = 0.838, ||u-u_n|| = 0.004, ||u-u_n||/||u|| = 0.011, \n",
      "  ||p|| = 5792083.232, ||p||_8 = 10032520.853, ||p-p_n|| = 2.524, ||p-p_n||/||p|| = 0.0, \n",
      "  ||T|| = 1.307, ||T||_8 = 3.0, ||T-T_n|| = 0.009, ||T-T_n||/||T|| = 0.007, \n",
      "  ||S|| = 34.891, ||S||_8 = 35.114, ||S - S_n|| = 0.001, ||S - S_n||/||S|| = 0.0\n",
      "INFO:root:Timestep 43 of 100000: \n",
      "  ||u|| = 0.395, ||u||_8 = 0.838, ||u-u_n|| = 0.004, ||u-u_n||/||u|| = 0.011, \n",
      "  ||p|| = 5792083.01, ||p||_8 = 10032520.509, ||p-p_n|| = 2.521, ||p-p_n||/||p|| = 0.0, \n",
      "  ||T|| = 1.307, ||T||_8 = 3.0, ||T-T_n|| = 0.009, ||T-T_n||/||T|| = 0.007, \n",
      "  ||S|| = 34.891, ||S||_8 = 35.114, ||S - S_n|| = 0.001, ||S - S_n||/||S|| = 0.0\n",
      "INFO:root:Timestep 44 of 100000: \n",
      "  ||u|| = 0.396, ||u||_8 = 0.839, ||u-u_n|| = 0.004, ||u-u_n||/||u|| = 0.011, \n",
      "  ||p|| = 5792082.789, ||p||_8 = 10032520.166, ||p-p_n|| = 2.519, ||p-p_n||/||p|| = 0.0, \n",
      "  ||T|| = 1.307, ||T||_8 = 3.0, ||T-T_n|| = 0.009, ||T-T_n||/||T|| = 0.007, \n",
      "  ||S|| = 34.891, ||S||_8 = 35.114, ||S - S_n|| = 0.001, ||S - S_n||/||S|| = 0.0\n",
      "INFO:root:Timestep 45 of 100000: \n",
      "  ||u|| = 0.396, ||u||_8 = 0.839, ||u-u_n|| = 0.004, ||u-u_n||/||u|| = 0.011, \n",
      "  ||p|| = 5792082.567, ||p||_8 = 10032519.823, ||p-p_n|| = 2.517, ||p-p_n||/||p|| = 0.0, \n",
      "  ||T|| = 1.307, ||T||_8 = 3.0, ||T-T_n|| = 0.009, ||T-T_n||/||T|| = 0.007, \n",
      "  ||S|| = 34.891, ||S||_8 = 35.114, ||S - S_n|| = 0.001, ||S - S_n||/||S|| = 0.0\n",
      "INFO:root:Timestep 46 of 100000: \n",
      "  ||u|| = 0.396, ||u||_8 = 0.84, ||u-u_n|| = 0.004, ||u-u_n||/||u|| = 0.011, \n",
      "  ||p|| = 5792082.346, ||p||_8 = 10032519.48, ||p-p_n|| = 2.514, ||p-p_n||/||p|| = 0.0, \n",
      "  ||T|| = 1.308, ||T||_8 = 3.0, ||T-T_n|| = 0.009, ||T-T_n||/||T|| = 0.007, \n",
      "  ||S|| = 34.891, ||S||_8 = 35.114, ||S - S_n|| = 0.001, ||S - S_n||/||S|| = 0.0\n",
      "INFO:root:Timestep 47 of 100000: \n",
      "  ||u|| = 0.396, ||u||_8 = 0.84, ||u-u_n|| = 0.004, ||u-u_n||/||u|| = 0.011, \n",
      "  ||p|| = 5792082.125, ||p||_8 = 10032519.137, ||p-p_n|| = 2.512, ||p-p_n||/||p|| = 0.0, \n",
      "  ||T|| = 1.308, ||T||_8 = 3.0, ||T-T_n|| = 0.009, ||T-T_n||/||T|| = 0.007, \n",
      "  ||S|| = 34.891, ||S||_8 = 35.114, ||S - S_n|| = 0.001, ||S - S_n||/||S|| = 0.0\n",
      "INFO:root:Timestep 48 of 100000: \n",
      "  ||u|| = 0.396, ||u||_8 = 0.841, ||u-u_n|| = 0.004, ||u-u_n||/||u|| = 0.011, \n",
      "  ||p|| = 5792081.905, ||p||_8 = 10032518.795, ||p-p_n|| = 2.509, ||p-p_n||/||p|| = 0.0, \n",
      "  ||T|| = 1.308, ||T||_8 = 3.0, ||T-T_n|| = 0.009, ||T-T_n||/||T|| = 0.007, \n",
      "  ||S|| = 34.891, ||S||_8 = 35.114, ||S - S_n|| = 0.001, ||S - S_n||/||S|| = 0.0\n",
      "INFO:root:Timestep 49 of 100000: \n",
      "  ||u|| = 0.396, ||u||_8 = 0.841, ||u-u_n|| = 0.004, ||u-u_n||/||u|| = 0.011, \n",
      "  ||p|| = 5792081.684, ||p||_8 = 10032518.453, ||p-p_n|| = 2.507, ||p-p_n||/||p|| = 0.0, \n",
      "  ||T|| = 1.308, ||T||_8 = 3.0, ||T-T_n|| = 0.009, ||T-T_n||/||T|| = 0.007, \n",
      "  ||S|| = 34.89, ||S||_8 = 35.114, ||S - S_n|| = 0.001, ||S - S_n||/||S|| = 0.0\n",
      "INFO:root:Timestep 50 of 100000: \n",
      "  ||u|| = 0.396, ||u||_8 = 0.842, ||u-u_n|| = 0.004, ||u-u_n||/||u|| = 0.011, \n",
      "  ||p|| = 5792081.464, ||p||_8 = 10032518.111, ||p-p_n|| = 2.505, ||p-p_n||/||p|| = 0.0, \n",
      "  ||T|| = 1.309, ||T||_8 = 3.0, ||T-T_n|| = 0.009, ||T-T_n||/||T|| = 0.007, \n",
      "  ||S|| = 34.89, ||S||_8 = 35.114, ||S - S_n|| = 0.001, ||S - S_n||/||S|| = 0.0\n"
     ]
    },
    {
     "name": "stderr",
     "output_type": "stream",
     "text": [
      "INFO:root:Timestep 51 of 100000: \n",
      "  ||u|| = 0.397, ||u||_8 = 0.842, ||u-u_n|| = 0.004, ||u-u_n||/||u|| = 0.011, \n",
      "  ||p|| = 5792081.244, ||p||_8 = 10032517.769, ||p-p_n|| = 2.502, ||p-p_n||/||p|| = 0.0, \n",
      "  ||T|| = 1.309, ||T||_8 = 3.0, ||T-T_n|| = 0.009, ||T-T_n||/||T|| = 0.007, \n",
      "  ||S|| = 34.89, ||S||_8 = 35.114, ||S - S_n|| = 0.001, ||S - S_n||/||S|| = 0.0\n",
      "INFO:root:Timestep 52 of 100000: \n",
      "  ||u|| = 0.397, ||u||_8 = 0.843, ||u-u_n|| = 0.004, ||u-u_n||/||u|| = 0.011, \n",
      "  ||p|| = 5792081.024, ||p||_8 = 10032517.427, ||p-p_n|| = 2.5, ||p-p_n||/||p|| = 0.0, \n",
      "  ||T|| = 1.309, ||T||_8 = 3.0, ||T-T_n|| = 0.009, ||T-T_n||/||T|| = 0.007, \n",
      "  ||S|| = 34.89, ||S||_8 = 35.114, ||S - S_n|| = 0.001, ||S - S_n||/||S|| = 0.0\n",
      "INFO:root:Timestep 53 of 100000: \n",
      "  ||u|| = 0.397, ||u||_8 = 0.843, ||u-u_n|| = 0.004, ||u-u_n||/||u|| = 0.011, \n",
      "  ||p|| = 5792080.804, ||p||_8 = 10032517.085, ||p-p_n|| = 2.498, ||p-p_n||/||p|| = 0.0, \n",
      "  ||T|| = 1.31, ||T||_8 = 3.0, ||T-T_n|| = 0.009, ||T-T_n||/||T|| = 0.007, \n",
      "  ||S|| = 34.89, ||S||_8 = 35.114, ||S - S_n|| = 0.001, ||S - S_n||/||S|| = 0.0\n",
      "INFO:root:Timestep 54 of 100000: \n",
      "  ||u|| = 0.397, ||u||_8 = 0.844, ||u-u_n|| = 0.004, ||u-u_n||/||u|| = 0.011, \n",
      "  ||p|| = 5792080.585, ||p||_8 = 10032516.744, ||p-p_n|| = 2.495, ||p-p_n||/||p|| = 0.0, \n",
      "  ||T|| = 1.31, ||T||_8 = 3.0, ||T-T_n|| = 0.009, ||T-T_n||/||T|| = 0.007, \n",
      "  ||S|| = 34.89, ||S||_8 = 35.114, ||S - S_n|| = 0.001, ||S - S_n||/||S|| = 0.0\n",
      "INFO:root:Timestep 55 of 100000: \n",
      "  ||u|| = 0.397, ||u||_8 = 0.844, ||u-u_n|| = 0.004, ||u-u_n||/||u|| = 0.011, \n",
      "  ||p|| = 5792080.366, ||p||_8 = 10032516.403, ||p-p_n|| = 2.493, ||p-p_n||/||p|| = 0.0, \n",
      "  ||T|| = 1.31, ||T||_8 = 3.0, ||T-T_n|| = 0.009, ||T-T_n||/||T|| = 0.007, \n",
      "  ||S|| = 34.89, ||S||_8 = 35.114, ||S - S_n|| = 0.001, ||S - S_n||/||S|| = 0.0\n",
      "INFO:root:Timestep 56 of 100000: \n",
      "  ||u|| = 0.397, ||u||_8 = 0.845, ||u-u_n|| = 0.004, ||u-u_n||/||u|| = 0.011, \n",
      "  ||p|| = 5792080.147, ||p||_8 = 10032516.062, ||p-p_n|| = 2.491, ||p-p_n||/||p|| = 0.0, \n",
      "  ||T|| = 1.31, ||T||_8 = 3.0, ||T-T_n|| = 0.009, ||T-T_n||/||T|| = 0.007, \n",
      "  ||S|| = 34.89, ||S||_8 = 35.114, ||S - S_n|| = 0.001, ||S - S_n||/||S|| = 0.0\n",
      "INFO:root:Timestep 57 of 100000: \n",
      "  ||u|| = 0.397, ||u||_8 = 0.845, ||u-u_n|| = 0.004, ||u-u_n||/||u|| = 0.011, \n",
      "  ||p|| = 5792079.928, ||p||_8 = 10032515.721, ||p-p_n|| = 2.488, ||p-p_n||/||p|| = 0.0, \n",
      "  ||T|| = 1.311, ||T||_8 = 3.0, ||T-T_n|| = 0.009, ||T-T_n||/||T|| = 0.007, \n",
      "  ||S|| = 34.89, ||S||_8 = 35.114, ||S - S_n|| = 0.001, ||S - S_n||/||S|| = 0.0\n",
      "INFO:root:Timestep 58 of 100000: \n",
      "  ||u|| = 0.398, ||u||_8 = 0.846, ||u-u_n|| = 0.004, ||u-u_n||/||u|| = 0.011, \n",
      "  ||p|| = 5792079.709, ||p||_8 = 10032515.381, ||p-p_n|| = 2.486, ||p-p_n||/||p|| = 0.0, \n",
      "  ||T|| = 1.311, ||T||_8 = 3.0, ||T-T_n|| = 0.009, ||T-T_n||/||T|| = 0.007, \n",
      "  ||S|| = 34.89, ||S||_8 = 35.114, ||S - S_n|| = 0.001, ||S - S_n||/||S|| = 0.0\n",
      "INFO:root:Timestep 59 of 100000: \n",
      "  ||u|| = 0.398, ||u||_8 = 0.846, ||u-u_n|| = 0.004, ||u-u_n||/||u|| = 0.011, \n",
      "  ||p|| = 5792079.491, ||p||_8 = 10032515.04, ||p-p_n|| = 2.484, ||p-p_n||/||p|| = 0.0, \n",
      "  ||T|| = 1.311, ||T||_8 = 3.0, ||T-T_n|| = 0.009, ||T-T_n||/||T|| = 0.007, \n",
      "  ||S|| = 34.89, ||S||_8 = 35.114, ||S - S_n|| = 0.001, ||S - S_n||/||S|| = 0.0\n",
      "INFO:root:Timestep 60 of 100000: \n",
      "  ||u|| = 0.398, ||u||_8 = 0.847, ||u-u_n|| = 0.004, ||u-u_n||/||u|| = 0.011, \n",
      "  ||p|| = 5792079.273, ||p||_8 = 10032514.7, ||p-p_n|| = 2.481, ||p-p_n||/||p|| = 0.0, \n",
      "  ||T|| = 1.311, ||T||_8 = 3.0, ||T-T_n|| = 0.009, ||T-T_n||/||T|| = 0.007, \n",
      "  ||S|| = 34.89, ||S||_8 = 35.114, ||S - S_n|| = 0.001, ||S - S_n||/||S|| = 0.0\n",
      "INFO:root:Timestep 61 of 100000: \n",
      "  ||u|| = 0.398, ||u||_8 = 0.847, ||u-u_n|| = 0.004, ||u-u_n||/||u|| = 0.011, \n",
      "  ||p|| = 5792079.055, ||p||_8 = 10032514.36, ||p-p_n|| = 2.479, ||p-p_n||/||p|| = 0.0, \n",
      "  ||T|| = 1.312, ||T||_8 = 3.0, ||T-T_n|| = 0.009, ||T-T_n||/||T|| = 0.007, \n",
      "  ||S|| = 34.89, ||S||_8 = 35.114, ||S - S_n|| = 0.001, ||S - S_n||/||S|| = 0.0\n",
      "INFO:root:Timestep 62 of 100000: \n",
      "  ||u|| = 0.398, ||u||_8 = 0.848, ||u-u_n|| = 0.004, ||u-u_n||/||u|| = 0.011, \n",
      "  ||p|| = 5792078.837, ||p||_8 = 10032514.02, ||p-p_n|| = 2.477, ||p-p_n||/||p|| = 0.0, \n",
      "  ||T|| = 1.312, ||T||_8 = 3.0, ||T-T_n|| = 0.009, ||T-T_n||/||T|| = 0.007, \n",
      "  ||S|| = 34.89, ||S||_8 = 35.114, ||S - S_n|| = 0.001, ||S - S_n||/||S|| = 0.0\n",
      "INFO:root:Timestep 63 of 100000: \n",
      "  ||u|| = 0.398, ||u||_8 = 0.848, ||u-u_n|| = 0.004, ||u-u_n||/||u|| = 0.011, \n",
      "  ||p|| = 5792078.619, ||p||_8 = 10032513.68, ||p-p_n|| = 2.474, ||p-p_n||/||p|| = 0.0, \n",
      "  ||T|| = 1.312, ||T||_8 = 3.0, ||T-T_n|| = 0.009, ||T-T_n||/||T|| = 0.006, \n",
      "  ||S|| = 34.89, ||S||_8 = 35.114, ||S - S_n|| = 0.001, ||S - S_n||/||S|| = 0.0\n",
      "INFO:root:Timestep 64 of 100000: \n",
      "  ||u|| = 0.399, ||u||_8 = 0.849, ||u-u_n|| = 0.004, ||u-u_n||/||u|| = 0.011, \n",
      "  ||p|| = 5792078.402, ||p||_8 = 10032513.341, ||p-p_n|| = 2.472, ||p-p_n||/||p|| = 0.0, \n",
      "  ||T|| = 1.312, ||T||_8 = 3.0, ||T-T_n|| = 0.009, ||T-T_n||/||T|| = 0.006, \n",
      "  ||S|| = 34.89, ||S||_8 = 35.114, ||S - S_n|| = 0.001, ||S - S_n||/||S|| = 0.0\n",
      "INFO:root:Timestep 65 of 100000: \n",
      "  ||u|| = 0.399, ||u||_8 = 0.849, ||u-u_n|| = 0.004, ||u-u_n||/||u|| = 0.011, \n",
      "  ||p|| = 5792078.185, ||p||_8 = 10032513.001, ||p-p_n|| = 2.47, ||p-p_n||/||p|| = 0.0, \n",
      "  ||T|| = 1.313, ||T||_8 = 3.0, ||T-T_n|| = 0.009, ||T-T_n||/||T|| = 0.006, \n",
      "  ||S|| = 34.89, ||S||_8 = 35.114, ||S - S_n|| = 0.001, ||S - S_n||/||S|| = 0.0\n",
      "INFO:root:Timestep 66 of 100000: \n",
      "  ||u|| = 0.399, ||u||_8 = 0.85, ||u-u_n|| = 0.004, ||u-u_n||/||u|| = 0.011, \n",
      "  ||p|| = 5792077.968, ||p||_8 = 10032512.662, ||p-p_n|| = 2.467, ||p-p_n||/||p|| = 0.0, \n",
      "  ||T|| = 1.313, ||T||_8 = 3.0, ||T-T_n|| = 0.008, ||T-T_n||/||T|| = 0.006, \n",
      "  ||S|| = 34.89, ||S||_8 = 35.114, ||S - S_n|| = 0.001, ||S - S_n||/||S|| = 0.0\n",
      "INFO:root:Timestep 67 of 100000: \n",
      "  ||u|| = 0.399, ||u||_8 = 0.85, ||u-u_n|| = 0.004, ||u-u_n||/||u|| = 0.011, \n",
      "  ||p|| = 5792077.751, ||p||_8 = 10032512.323, ||p-p_n|| = 2.465, ||p-p_n||/||p|| = 0.0, \n",
      "  ||T|| = 1.313, ||T||_8 = 3.0, ||T-T_n|| = 0.008, ||T-T_n||/||T|| = 0.006, \n",
      "  ||S|| = 34.89, ||S||_8 = 35.114, ||S - S_n|| = 0.001, ||S - S_n||/||S|| = 0.0\n",
      "INFO:root:Timestep 68 of 100000: \n",
      "  ||u|| = 0.399, ||u||_8 = 0.85, ||u-u_n|| = 0.004, ||u-u_n||/||u|| = 0.011, \n",
      "  ||p|| = 5792077.534, ||p||_8 = 10032511.985, ||p-p_n|| = 2.463, ||p-p_n||/||p|| = 0.0, \n",
      "  ||T|| = 1.314, ||T||_8 = 3.0, ||T-T_n|| = 0.008, ||T-T_n||/||T|| = 0.006, \n",
      "  ||S|| = 34.889, ||S||_8 = 35.114, ||S - S_n|| = 0.001, ||S - S_n||/||S|| = 0.0\n",
      "INFO:root:Timestep 69 of 100000: \n",
      "  ||u|| = 0.399, ||u||_8 = 0.851, ||u-u_n|| = 0.004, ||u-u_n||/||u|| = 0.011, \n",
      "  ||p|| = 5792077.318, ||p||_8 = 10032511.646, ||p-p_n|| = 2.461, ||p-p_n||/||p|| = 0.0, \n",
      "  ||T|| = 1.314, ||T||_8 = 3.0, ||T-T_n|| = 0.008, ||T-T_n||/||T|| = 0.006, \n",
      "  ||S|| = 34.889, ||S||_8 = 35.114, ||S - S_n|| = 0.001, ||S - S_n||/||S|| = 0.0\n",
      "INFO:root:Timestep 70 of 100000: \n",
      "  ||u|| = 0.399, ||u||_8 = 0.851, ||u-u_n|| = 0.004, ||u-u_n||/||u|| = 0.011, \n",
      "  ||p|| = 5792077.102, ||p||_8 = 10032511.308, ||p-p_n|| = 2.458, ||p-p_n||/||p|| = 0.0, \n",
      "  ||T|| = 1.314, ||T||_8 = 3.0, ||T-T_n|| = 0.008, ||T-T_n||/||T|| = 0.006, \n",
      "  ||S|| = 34.889, ||S||_8 = 35.114, ||S - S_n|| = 0.001, ||S - S_n||/||S|| = 0.0\n",
      "INFO:root:Timestep 71 of 100000: \n",
      "  ||u|| = 0.4, ||u||_8 = 0.852, ||u-u_n|| = 0.004, ||u-u_n||/||u|| = 0.011, \n",
      "  ||p|| = 5792076.886, ||p||_8 = 10032510.969, ||p-p_n|| = 2.456, ||p-p_n||/||p|| = 0.0, \n",
      "  ||T|| = 1.314, ||T||_8 = 3.0, ||T-T_n|| = 0.008, ||T-T_n||/||T|| = 0.006, \n",
      "  ||S|| = 34.889, ||S||_8 = 35.114, ||S - S_n|| = 0.001, ||S - S_n||/||S|| = 0.0\n",
      "INFO:root:Timestep 72 of 100000: \n",
      "  ||u|| = 0.4, ||u||_8 = 0.852, ||u-u_n|| = 0.004, ||u-u_n||/||u|| = 0.011, \n",
      "  ||p|| = 5792076.67, ||p||_8 = 10032510.631, ||p-p_n|| = 2.454, ||p-p_n||/||p|| = 0.0, \n",
      "  ||T|| = 1.315, ||T||_8 = 3.0, ||T-T_n|| = 0.008, ||T-T_n||/||T|| = 0.006, \n",
      "  ||S|| = 34.889, ||S||_8 = 35.114, ||S - S_n|| = 0.001, ||S - S_n||/||S|| = 0.0\n",
      "INFO:root:Timestep 73 of 100000: \n",
      "  ||u|| = 0.4, ||u||_8 = 0.853, ||u-u_n|| = 0.004, ||u-u_n||/||u|| = 0.011, \n",
      "  ||p|| = 5792076.455, ||p||_8 = 10032510.293, ||p-p_n|| = 2.451, ||p-p_n||/||p|| = 0.0, \n",
      "  ||T|| = 1.315, ||T||_8 = 3.0, ||T-T_n|| = 0.008, ||T-T_n||/||T|| = 0.006, \n",
      "  ||S|| = 34.889, ||S||_8 = 35.114, ||S - S_n|| = 0.001, ||S - S_n||/||S|| = 0.0\n"
     ]
    },
    {
     "name": "stderr",
     "output_type": "stream",
     "text": [
      "INFO:root:Timestep 74 of 100000: \n",
      "  ||u|| = 0.4, ||u||_8 = 0.853, ||u-u_n|| = 0.004, ||u-u_n||/||u|| = 0.011, \n",
      "  ||p|| = 5792076.239, ||p||_8 = 10032509.956, ||p-p_n|| = 2.449, ||p-p_n||/||p|| = 0.0, \n",
      "  ||T|| = 1.315, ||T||_8 = 3.0, ||T-T_n|| = 0.008, ||T-T_n||/||T|| = 0.006, \n",
      "  ||S|| = 34.889, ||S||_8 = 35.114, ||S - S_n|| = 0.001, ||S - S_n||/||S|| = 0.0\n",
      "INFO:root:Timestep 75 of 100000: \n",
      "  ||u|| = 0.4, ||u||_8 = 0.854, ||u-u_n|| = 0.004, ||u-u_n||/||u|| = 0.011, \n",
      "  ||p|| = 5792076.024, ||p||_8 = 10032509.618, ||p-p_n|| = 2.447, ||p-p_n||/||p|| = 0.0, \n",
      "  ||T|| = 1.315, ||T||_8 = 3.0, ||T-T_n|| = 0.008, ||T-T_n||/||T|| = 0.006, \n",
      "  ||S|| = 34.889, ||S||_8 = 35.114, ||S - S_n|| = 0.001, ||S - S_n||/||S|| = 0.0\n",
      "INFO:root:Timestep 76 of 100000: \n",
      "  ||u|| = 0.4, ||u||_8 = 0.854, ||u-u_n|| = 0.004, ||u-u_n||/||u|| = 0.011, \n",
      "  ||p|| = 5792075.809, ||p||_8 = 10032509.281, ||p-p_n|| = 2.445, ||p-p_n||/||p|| = 0.0, \n",
      "  ||T|| = 1.316, ||T||_8 = 3.0, ||T-T_n|| = 0.008, ||T-T_n||/||T|| = 0.006, \n",
      "  ||S|| = 34.889, ||S||_8 = 35.114, ||S - S_n|| = 0.001, ||S - S_n||/||S|| = 0.0\n",
      "INFO:root:Timestep 77 of 100000: \n",
      "  ||u|| = 0.4, ||u||_8 = 0.855, ||u-u_n|| = 0.004, ||u-u_n||/||u|| = 0.011, \n",
      "  ||p|| = 5792075.594, ||p||_8 = 10032508.944, ||p-p_n|| = 2.442, ||p-p_n||/||p|| = 0.0, \n",
      "  ||T|| = 1.316, ||T||_8 = 3.0, ||T-T_n|| = 0.008, ||T-T_n||/||T|| = 0.006, \n",
      "  ||S|| = 34.889, ||S||_8 = 35.114, ||S - S_n|| = 0.001, ||S - S_n||/||S|| = 0.0\n",
      "INFO:root:Timestep 78 of 100000: \n",
      "  ||u|| = 0.401, ||u||_8 = 0.855, ||u-u_n|| = 0.004, ||u-u_n||/||u|| = 0.011, \n",
      "  ||p|| = 5792075.38, ||p||_8 = 10032508.607, ||p-p_n|| = 2.44, ||p-p_n||/||p|| = 0.0, \n",
      "  ||T|| = 1.316, ||T||_8 = 3.0, ||T-T_n|| = 0.008, ||T-T_n||/||T|| = 0.006, \n",
      "  ||S|| = 34.889, ||S||_8 = 35.114, ||S - S_n|| = 0.001, ||S - S_n||/||S|| = 0.0\n",
      "INFO:root:Timestep 79 of 100000: \n",
      "  ||u|| = 0.401, ||u||_8 = 0.856, ||u-u_n|| = 0.004, ||u-u_n||/||u|| = 0.01, \n",
      "  ||p|| = 5792075.166, ||p||_8 = 10032508.27, ||p-p_n|| = 2.438, ||p-p_n||/||p|| = 0.0, \n",
      "  ||T|| = 1.316, ||T||_8 = 3.0, ||T-T_n|| = 0.008, ||T-T_n||/||T|| = 0.006, \n",
      "  ||S|| = 34.889, ||S||_8 = 35.114, ||S - S_n|| = 0.001, ||S - S_n||/||S|| = 0.0\n",
      "INFO:root:Timestep 80 of 100000: \n",
      "  ||u|| = 0.401, ||u||_8 = 0.856, ||u-u_n|| = 0.004, ||u-u_n||/||u|| = 0.01, \n",
      "  ||p|| = 5792074.951, ||p||_8 = 10032507.933, ||p-p_n|| = 2.436, ||p-p_n||/||p|| = 0.0, \n",
      "  ||T|| = 1.317, ||T||_8 = 3.0, ||T-T_n|| = 0.008, ||T-T_n||/||T|| = 0.006, \n",
      "  ||S|| = 34.889, ||S||_8 = 35.114, ||S - S_n|| = 0.001, ||S - S_n||/||S|| = 0.0\n",
      "INFO:root:Timestep 81 of 100000: \n",
      "  ||u|| = 0.401, ||u||_8 = 0.856, ||u-u_n|| = 0.004, ||u-u_n||/||u|| = 0.01, \n",
      "  ||p|| = 5792074.737, ||p||_8 = 10032507.597, ||p-p_n|| = 2.434, ||p-p_n||/||p|| = 0.0, \n",
      "  ||T|| = 1.317, ||T||_8 = 3.0, ||T-T_n|| = 0.008, ||T-T_n||/||T|| = 0.006, \n",
      "  ||S|| = 34.889, ||S||_8 = 35.114, ||S - S_n|| = 0.001, ||S - S_n||/||S|| = 0.0\n",
      "INFO:root:Timestep 82 of 100000: \n",
      "  ||u|| = 0.401, ||u||_8 = 0.857, ||u-u_n|| = 0.004, ||u-u_n||/||u|| = 0.01, \n",
      "  ||p|| = 5792074.524, ||p||_8 = 10032507.26, ||p-p_n|| = 2.431, ||p-p_n||/||p|| = 0.0, \n",
      "  ||T|| = 1.317, ||T||_8 = 3.0, ||T-T_n|| = 0.008, ||T-T_n||/||T|| = 0.006, \n",
      "  ||S|| = 34.889, ||S||_8 = 35.114, ||S - S_n|| = 0.001, ||S - S_n||/||S|| = 0.0\n",
      "INFO:root:Timestep 83 of 100000: \n",
      "  ||u|| = 0.401, ||u||_8 = 0.857, ||u-u_n|| = 0.004, ||u-u_n||/||u|| = 0.01, \n",
      "  ||p|| = 5792074.31, ||p||_8 = 10032506.924, ||p-p_n|| = 2.429, ||p-p_n||/||p|| = 0.0, \n",
      "  ||T|| = 1.317, ||T||_8 = 3.0, ||T-T_n|| = 0.008, ||T-T_n||/||T|| = 0.006, \n",
      "  ||S|| = 34.889, ||S||_8 = 35.114, ||S - S_n|| = 0.001, ||S - S_n||/||S|| = 0.0\n",
      "INFO:root:Timestep 84 of 100000: \n",
      "  ||u|| = 0.401, ||u||_8 = 0.858, ||u-u_n|| = 0.004, ||u-u_n||/||u|| = 0.01, \n",
      "  ||p|| = 5792074.097, ||p||_8 = 10032506.588, ||p-p_n|| = 2.427, ||p-p_n||/||p|| = 0.0, \n",
      "  ||T|| = 1.318, ||T||_8 = 3.0, ||T-T_n|| = 0.008, ||T-T_n||/||T|| = 0.006, \n",
      "  ||S|| = 34.889, ||S||_8 = 35.114, ||S - S_n|| = 0.001, ||S - S_n||/||S|| = 0.0\n",
      "INFO:root:Timestep 85 of 100000: \n",
      "  ||u|| = 0.402, ||u||_8 = 0.858, ||u-u_n|| = 0.004, ||u-u_n||/||u|| = 0.01, \n",
      "  ||p|| = 5792073.884, ||p||_8 = 10032506.252, ||p-p_n|| = 2.425, ||p-p_n||/||p|| = 0.0, \n",
      "  ||T|| = 1.318, ||T||_8 = 3.0, ||T-T_n|| = 0.008, ||T-T_n||/||T|| = 0.006, \n",
      "  ||S|| = 34.889, ||S||_8 = 35.114, ||S - S_n|| = 0.001, ||S - S_n||/||S|| = 0.0\n",
      "INFO:root:Timestep 86 of 100000: \n",
      "  ||u|| = 0.402, ||u||_8 = 0.859, ||u-u_n|| = 0.004, ||u-u_n||/||u|| = 0.01, \n",
      "  ||p|| = 5792073.671, ||p||_8 = 10032505.917, ||p-p_n|| = 2.422, ||p-p_n||/||p|| = 0.0, \n",
      "  ||T|| = 1.318, ||T||_8 = 3.0, ||T-T_n|| = 0.008, ||T-T_n||/||T|| = 0.006, \n",
      "  ||S|| = 34.889, ||S||_8 = 35.114, ||S - S_n|| = 0.001, ||S - S_n||/||S|| = 0.0\n",
      "INFO:root:Timestep 87 of 100000: \n",
      "  ||u|| = 0.402, ||u||_8 = 0.859, ||u-u_n|| = 0.004, ||u-u_n||/||u|| = 0.01, \n",
      "  ||p|| = 5792073.458, ||p||_8 = 10032505.581, ||p-p_n|| = 2.42, ||p-p_n||/||p|| = 0.0, \n",
      "  ||T|| = 1.318, ||T||_8 = 3.0, ||T-T_n|| = 0.008, ||T-T_n||/||T|| = 0.006, \n",
      "  ||S|| = 34.889, ||S||_8 = 35.114, ||S - S_n|| = 0.001, ||S - S_n||/||S|| = 0.0\n",
      "INFO:root:Timestep 88 of 100000: \n",
      "  ||u|| = 0.402, ||u||_8 = 0.86, ||u-u_n|| = 0.004, ||u-u_n||/||u|| = 0.01, \n",
      "  ||p|| = 5792073.245, ||p||_8 = 10032505.246, ||p-p_n|| = 2.418, ||p-p_n||/||p|| = 0.0, \n",
      "  ||T|| = 1.319, ||T||_8 = 3.0, ||T-T_n|| = 0.008, ||T-T_n||/||T|| = 0.006, \n",
      "  ||S|| = 34.888, ||S||_8 = 35.114, ||S - S_n|| = 0.001, ||S - S_n||/||S|| = 0.0\n",
      "INFO:root:Timestep 89 of 100000: \n",
      "  ||u|| = 0.402, ||u||_8 = 0.86, ||u-u_n|| = 0.004, ||u-u_n||/||u|| = 0.01, \n",
      "  ||p|| = 5792073.033, ||p||_8 = 10032504.911, ||p-p_n|| = 2.416, ||p-p_n||/||p|| = 0.0, \n",
      "  ||T|| = 1.319, ||T||_8 = 3.0, ||T-T_n|| = 0.008, ||T-T_n||/||T|| = 0.006, \n",
      "  ||S|| = 34.888, ||S||_8 = 35.114, ||S - S_n|| = 0.001, ||S - S_n||/||S|| = 0.0\n",
      "INFO:root:Timestep 90 of 100000: \n",
      "  ||u|| = 0.402, ||u||_8 = 0.861, ||u-u_n|| = 0.004, ||u-u_n||/||u|| = 0.01, \n",
      "  ||p|| = 5792072.821, ||p||_8 = 10032504.576, ||p-p_n|| = 2.414, ||p-p_n||/||p|| = 0.0, \n",
      "  ||T|| = 1.319, ||T||_8 = 3.0, ||T-T_n|| = 0.008, ||T-T_n||/||T|| = 0.006, \n",
      "  ||S|| = 34.888, ||S||_8 = 35.114, ||S - S_n|| = 0.001, ||S - S_n||/||S|| = 0.0\n",
      "INFO:root:Timestep 91 of 100000: \n",
      "  ||u|| = 0.402, ||u||_8 = 0.861, ||u-u_n|| = 0.004, ||u-u_n||/||u|| = 0.01, \n",
      "  ||p|| = 5792072.609, ||p||_8 = 10032504.241, ||p-p_n|| = 2.412, ||p-p_n||/||p|| = 0.0, \n",
      "  ||T|| = 1.319, ||T||_8 = 3.0, ||T-T_n|| = 0.008, ||T-T_n||/||T|| = 0.006, \n",
      "  ||S|| = 34.888, ||S||_8 = 35.114, ||S - S_n|| = 0.001, ||S - S_n||/||S|| = 0.0\n",
      "INFO:root:Timestep 92 of 100000: \n",
      "  ||u|| = 0.403, ||u||_8 = 0.861, ||u-u_n|| = 0.004, ||u-u_n||/||u|| = 0.01, \n",
      "  ||p|| = 5792072.397, ||p||_8 = 10032503.907, ||p-p_n|| = 2.409, ||p-p_n||/||p|| = 0.0, \n",
      "  ||T|| = 1.32, ||T||_8 = 3.0, ||T-T_n|| = 0.008, ||T-T_n||/||T|| = 0.006, \n",
      "  ||S|| = 34.888, ||S||_8 = 35.114, ||S - S_n|| = 0.001, ||S - S_n||/||S|| = 0.0\n",
      "INFO:root:Timestep 93 of 100000: \n",
      "  ||u|| = 0.403, ||u||_8 = 0.862, ||u-u_n|| = 0.004, ||u-u_n||/||u|| = 0.01, \n",
      "  ||p|| = 5792072.185, ||p||_8 = 10032503.572, ||p-p_n|| = 2.407, ||p-p_n||/||p|| = 0.0, \n",
      "  ||T|| = 1.32, ||T||_8 = 3.0, ||T-T_n|| = 0.008, ||T-T_n||/||T|| = 0.006, \n",
      "  ||S|| = 34.888, ||S||_8 = 35.115, ||S - S_n|| = 0.001, ||S - S_n||/||S|| = 0.0\n",
      "INFO:root:Timestep 94 of 100000: \n",
      "  ||u|| = 0.403, ||u||_8 = 0.862, ||u-u_n|| = 0.004, ||u-u_n||/||u|| = 0.01, \n",
      "  ||p|| = 5792071.974, ||p||_8 = 10032503.238, ||p-p_n|| = 2.405, ||p-p_n||/||p|| = 0.0, \n",
      "  ||T|| = 1.32, ||T||_8 = 3.0, ||T-T_n|| = 0.008, ||T-T_n||/||T|| = 0.006, \n",
      "  ||S|| = 34.888, ||S||_8 = 35.115, ||S - S_n|| = 0.001, ||S - S_n||/||S|| = 0.0\n",
      "INFO:root:Timestep 95 of 100000: \n",
      "  ||u|| = 0.403, ||u||_8 = 0.863, ||u-u_n|| = 0.004, ||u-u_n||/||u|| = 0.01, \n",
      "  ||p|| = 5792071.763, ||p||_8 = 10032502.904, ||p-p_n|| = 2.403, ||p-p_n||/||p|| = 0.0, \n",
      "  ||T|| = 1.321, ||T||_8 = 3.0, ||T-T_n|| = 0.008, ||T-T_n||/||T|| = 0.006, \n",
      "  ||S|| = 34.888, ||S||_8 = 35.115, ||S - S_n|| = 0.001, ||S - S_n||/||S|| = 0.0\n",
      "INFO:root:Timestep 96 of 100000: \n",
      "  ||u|| = 0.403, ||u||_8 = 0.863, ||u-u_n|| = 0.004, ||u-u_n||/||u|| = 0.01, \n",
      "  ||p|| = 5792071.551, ||p||_8 = 10032502.57, ||p-p_n|| = 2.401, ||p-p_n||/||p|| = 0.0, \n",
      "  ||T|| = 1.321, ||T||_8 = 3.0, ||T-T_n|| = 0.008, ||T-T_n||/||T|| = 0.006, \n",
      "  ||S|| = 34.888, ||S||_8 = 35.115, ||S - S_n|| = 0.001, ||S - S_n||/||S|| = 0.0\n"
     ]
    },
    {
     "name": "stderr",
     "output_type": "stream",
     "text": [
      "INFO:root:Timestep 97 of 100000: \n",
      "  ||u|| = 0.403, ||u||_8 = 0.864, ||u-u_n|| = 0.004, ||u-u_n||/||u|| = 0.01, \n",
      "  ||p|| = 5792071.341, ||p||_8 = 10032502.236, ||p-p_n|| = 2.399, ||p-p_n||/||p|| = 0.0, \n",
      "  ||T|| = 1.321, ||T||_8 = 3.0, ||T-T_n|| = 0.008, ||T-T_n||/||T|| = 0.006, \n",
      "  ||S|| = 34.888, ||S||_8 = 35.115, ||S - S_n|| = 0.001, ||S - S_n||/||S|| = 0.0\n",
      "INFO:root:Timestep 98 of 100000: \n",
      "  ||u|| = 0.403, ||u||_8 = 0.864, ||u-u_n|| = 0.004, ||u-u_n||/||u|| = 0.01, \n",
      "  ||p|| = 5792071.13, ||p||_8 = 10032501.903, ||p-p_n|| = 2.396, ||p-p_n||/||p|| = 0.0, \n",
      "  ||T|| = 1.321, ||T||_8 = 3.0, ||T-T_n|| = 0.008, ||T-T_n||/||T|| = 0.006, \n",
      "  ||S|| = 34.888, ||S||_8 = 35.115, ||S - S_n|| = 0.001, ||S - S_n||/||S|| = 0.0\n",
      "INFO:root:Timestep 99 of 100000: \n",
      "  ||u|| = 0.404, ||u||_8 = 0.865, ||u-u_n|| = 0.004, ||u-u_n||/||u|| = 0.01, \n",
      "  ||p|| = 5792070.92, ||p||_8 = 10032501.569, ||p-p_n|| = 2.394, ||p-p_n||/||p|| = 0.0, \n",
      "  ||T|| = 1.322, ||T||_8 = 3.0, ||T-T_n|| = 0.008, ||T-T_n||/||T|| = 0.006, \n",
      "  ||S|| = 34.888, ||S||_8 = 35.115, ||S - S_n|| = 0.001, ||S - S_n||/||S|| = 0.0\n",
      "INFO:root:Max iterations reached, stopping simulation at timestep 100\n",
      "INFO:root:Timestep 100 of 100000: \n",
      "  ||u|| = 0.404, ||u||_8 = 0.865, ||u-u_n|| = 0.004, ||u-u_n||/||u|| = 0.01, \n",
      "  ||p|| = 5792070.92, ||p||_8 = 10032501.569, ||p-p_n|| = 2.394, ||p-p_n||/||p|| = 0.0, \n",
      "  ||T|| = 1.322, ||T||_8 = 3.0, ||T-T_n|| = 0.008, ||T-T_n||/||T|| = 0.006, \n",
      "  ||S|| = 34.888, ||S||_8 = 35.115, ||S - S_n|| = 0.001, ||S - S_n||/||S|| = 0.0\n"
     ]
    }
   ],
   "source": [
    "simulation.run()"
   ]
  },
  {
   "cell_type": "markdown",
   "metadata": {},
   "source": [
    "Mesh and solutions for all variables can then be plotted:"
   ]
  },
  {
   "cell_type": "code",
   "execution_count": 23,
   "metadata": {},
   "outputs": [
    {
     "name": "stderr",
     "output_type": "stream",
     "text": [
      "INFO:root:Plotting Mesh...\n"
     ]
    },
    {
     "data": {
      "image/png": "[encoded data removed]",
      "text/plain": [
       "<Figure size 432x288 with 2 Axes>"
      ]
     },
     "metadata": {
      "needs_background": "light"
     },
     "output_type": "display_data"
    },
    {
     "name": "stderr",
     "output_type": "stream",
     "text": [
      "INFO:root:Plotting Velocity...\n"
     ]
    },
    {
     "data": {
      "image/png": "[encoded data removed]",
      "text/plain": [
       "<Figure size 432x288 with 2 Axes>"
      ]
     },
     "metadata": {
      "needs_background": "light"
     },
     "output_type": "display_data"
    },
    {
     "name": "stderr",
     "output_type": "stream",
     "text": [
      "INFO:root:Plotting Pressure...\n"
     ]
    },
    {
     "data": {
      "image/png": "[encoded data removed]",
      "text/plain": [
       "<Figure size 432x288 with 2 Axes>"
      ]
     },
     "metadata": {
      "needs_background": "light"
     },
     "output_type": "display_data"
    },
    {
     "name": "stderr",
     "output_type": "stream",
     "text": [
      "INFO:root:Plotting Temperature...\n"
     ]
    },
    {
     "data": {
      "image/png": "[encoded data removed]",
      "text/plain": [
       "<Figure size 432x288 with 2 Axes>"
      ]
     },
     "metadata": {
      "needs_background": "light"
     },
     "output_type": "display_data"
    }
   ],
   "source": [
    "feffi.plot.plot_single(mesh, file_name = 'mesh.png', title = 'Mesh', display = True)\n",
    "feffi.plot.plot_solutions(f, display = True)"
   ]
  }
 ],
 "metadata": {
  "kernelspec": {
   "display_name": "Python 3",
   "language": "python",
   "name": "python3"
  },
  "language_info": {
   "codemirror_mode": {
    "name": "ipython",
    "version": 3
   },
   "file_extension": ".py",
   "mimetype": "text/x-python",
   "name": "python",
   "nbconvert_exporter": "python",
   "pygments_lexer": "ipython3",
   "version": "3.8.3"
  }
 },
 "nbformat": 4,
 "nbformat_minor": 4
}
